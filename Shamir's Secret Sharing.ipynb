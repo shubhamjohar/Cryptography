{
 "metadata": {
  "name": "",
  "signature": "sha256:3b12237fe59b539c53a0f514290d4a92180eaf6ebe753dd4654ff1859daac2bd"
 },
 "nbformat": 3,
 "nbformat_minor": 0,
 "worksheets": [
  {
   "cells": [
    {
     "cell_type": "heading",
     "level": 1,
     "metadata": {},
     "source": [
      "Shamir's Secret Sharing Scheme"
     ]
    },
    {
     "cell_type": "markdown",
     "metadata": {},
     "source": [
      "<strong>Shamir's Secret Sharing </strong> is an algorithm in cryptography created by Adi Shamir.It is a form of secret sharing,where a secret is divided into parts giving each participant its own unique part,where some of the parts or all of them are needed in order to reconstruct the secret.\n",
      "\n",
      "Counting on all participants to combine the secret might be impractical and therefore sometimes the threshold scheme is used where any k f the parts are sufficient to reconstruct the original secret."
     ]
    },
    {
     "cell_type": "markdown",
     "metadata": {},
     "source": [
      "The goal is to divide secret $S$ into $n$ pieces of data $S_1,S_2,...S_n$ in such a way that:\n",
      "<ol>\n",
      "<li>knowledge of any $k$ or more $S_i$ pieces makes $S$ easily computable</li>\n",
      "<li>Knowledge of any$k-1$ or fewer $S_i$ pieces leaves $S$ completely undetermined\n",
      "</ol>\n",
      "\n",
      "This scheme is called $(k,n)$ threshold scheme.If $k=n$ then all participants are required to reconstruct the secret.\n",
      "\n",
      "To divide it into pieces,we pick a random $t-1$ degree polynomial\n",
      " $q(x)=a_0+a_1x+a_2x^2+........+a_{t-1}x^{t-1}$"
     ]
    },
    {
     "cell_type": "heading",
     "level": 3,
     "metadata": {},
     "source": [
      "Example"
     ]
    },
    {
     "cell_type": "markdown",
     "metadata": {},
     "source": [
      "Suppose that our secret is 1234$(S=1234)$.\n",
      "\n",
      "We wish to divide the secret into 6 parts$(n=6)$ where any subset of 3 part$(k=3)$ is sufficient to reconstruct the secret.At random we obtain two $(k-1)$ numbers:$166$ and $94$.\n",
      "\n",
      "$(a_0=1234;a_1=166;a_2=94)$\n",
      "\n",
      "Our polynomial to produce secret shares(points) is therfore:\n",
      "$q(x)=1234+166x+94x^2$\n",
      "\n",
      "We create  points $D_1=q(1),....D_i=q(i),...D_n=q(n)$\n"
     ]
    },
    {
     "cell_type": "heading",
     "level": 3,
     "metadata": {},
     "source": [
      "Lagranges Polynomial Interpolation "
     ]
    },
    {
     "cell_type": "markdown",
     "metadata": {},
     "source": [
      "<img src=\"https://upload.wikimedia.org/wikipedia/commons/thumb/5/5a/Lagrange_polynomial.svg/440px-Lagrange_polynomial.svg.png\">\n",
      "This image shows, for four points ((\u22129, 5), (\u22124, 2), (\u22121, \u22122), (7, 9)), the (cubic) interpolation polynomial L(x) (dashed, black), which is the sum of the scaled basis polynomials y0\u21130(x), y1\u21131(x), y2\u21132(x) and y3\u21133(x). The interpolation polynomial passes through all four control points, and each scaled basis polynomial passes through its respective control point and is 0 where x corresponds to the other three control points."
     ]
    },
    {
     "cell_type": "markdown",
     "metadata": {},
     "source": [
      "$L(x)=\\sum_{j=0}^{t}y_jl_j(x)$ \n",
      "\n",
      "where $l_j(x)=\\prod_{0 \\leq m<2, m \\neq j}(\\frac{x-x_m}{x_j-x_m})$"
     ]
    },
    {
     "cell_type": "heading",
     "level": 2,
     "metadata": {},
     "source": [
      "Algorithm/Scheme Implementation:"
     ]
    },
    {
     "cell_type": "code",
     "collapsed": false,
     "input": [
      "import random\n",
      "import math"
     ],
     "language": "python",
     "metadata": {},
     "outputs": []
    },
    {
     "cell_type": "code",
     "collapsed": false,
     "input": [
      "#Calculating D\n",
      "\n",
      "n=int(input(\"Enter the number of locks \"))\n",
      "k=int(input(\"Enter the keys required \"))\n",
      "\n",
      "arr=[]\n",
      "\n",
      "secret_key=int(input(\"Enter the secret key \"))\n",
      "arr.append(secret_key)\n",
      "nc=int(input(\"Enter the no of coefficients \"))\n",
      "#Input coefficients\n",
      "for i in range(nc):\n",
      "    arr.append(int(input(\"Enter the \"+str(i+1)+\" coefficient \")))\n",
      "    \n",
      "print \"\\n Function coefficients are(First element is the secret) \",arr\n",
      "  \n",
      "def eval_poly(x,a):\n",
      "    result=0\n",
      "    for i in range(len(a)):\n",
      "        result+=a[i]*x**i\n",
      "    return result  \n",
      "\n",
      "D_arr=[]\n",
      "def D_array():\n",
      "    #D_arr=[]\n",
      "    for i in range(1,n+1):\n",
      "        temp=[]\n",
      "        for j in range(1):\n",
      "            temp.append(i)\n",
      "            temp.append(eval_poly(i,arr))\n",
      "        D_arr.append(temp)\n",
      "    return D_arr\n",
      "\n",
      "print \"\\nD Array is \",D_array()\n",
      "\n",
      "#Finding l(x)\n",
      "\n",
      "#Randomly taking any 3 keys\n",
      "    \n",
      "x_arr=[1,3,4]\n",
      "\n",
      "#kn=int(input(\"enter the number of shares\"))\n",
      "#x_arr=[]\n",
      "#for i in range(kn):\n",
      "#    x_arr.append(int(input()))\n",
      "\n",
      "print \"\\n Taking  any  random keys pair\",x_arr\n",
      "\n",
      "l_array=[]\n",
      "\n",
      "def l_x(t):\n",
      "    result_numerator=1\n",
      "    result_denominator=1\n",
      "    for i in range(t):\n",
      "        temp=[]\n",
      "        for j in range(1,t):\n",
      "            result_numerator=poly_mult([-1,x_arr[(i+1)%t]],[-1,x_arr[(i+2)%t]])\n",
      "            result_denominator=(x_arr[i%t]-x_arr[(i+1)%t])*(x_arr[i%t]-x_arr[(i+2)%t])\n",
      "        temp.append(result_numerator)\n",
      "        temp.append(result_denominator)\n",
      "        l_array.append(temp)\n",
      "    return l_array\n",
      "        \n",
      "def poly_mult(p,q):\n",
      "    result_prod=[0]*(len(p)+len(q)-1)\n",
      "    for i in range(len(p)):\n",
      "        for j in range(len(q)):\n",
      "            result_prod[i+j]+=p[i]*q[j]\n",
      "    return result_prod\n",
      "\n",
      "print \"\\n First array is for coefficients of numerator and second is for denominator \",l_x(3)\n",
      "\n",
      "def poly_add(p,q):\n",
      "    result_sum=p\n",
      "    for i in range(len(q)):\n",
      "        result_sum[i]+=q[i]\n",
      "    return result_sum\n",
      "\n",
      "def Lagranges_Interpolation():\n",
      "    L_array=[1]*len(x_arr)\n",
      "    L=[]\n",
      "    #L_arrays store y0 divided by l(x) denominator\n",
      "    for i in range(len(x_arr)):\n",
      "        L_array[i]=(D_arr[x_arr[i]-1][1])/l_array[i][1]\n",
      "    for i in range(len(L_array)):\n",
      "        t=[]\n",
      "        temp=l_array[i][0]\n",
      "        for j in range(len(temp)):\n",
      "            t.append(temp[j]*L_array[i])\n",
      "        L.append(t)\n",
      "    return reduce((lambda x,y:poly_add(x,y)),L)\n",
      "\n",
      "coefficients=Lagranges_Interpolation()\n",
      "#Decoded\n",
      "print \"\\n Coefficients are \",coefficients,\"(decreasing power of x) \"\n",
      "    "
     ],
     "language": "python",
     "metadata": {},
     "outputs": []
    },
    {
     "cell_type": "code",
     "collapsed": false,
     "input": [
      "D_arr=[[1, 6], [2, 13], [3, 24], [4, 39]]\n",
      "x_arr=[1, 3, 4] \n",
      "l_array=[[[1, -7, 12], 6], [[1, -5, 4], -2], [[1, -4, 3], 3]]\n",
      "L_array=[1]*3"
     ],
     "language": "python",
     "metadata": {},
     "outputs": []
    },
    {
     "cell_type": "code",
     "collapsed": false,
     "input": [
      "for i in range(len(x_arr)):\n",
      "    L_array[i]=(D_arr[x_arr[i]-1][1])/l_array[i][1]"
     ],
     "language": "python",
     "metadata": {},
     "outputs": []
    },
    {
     "cell_type": "code",
     "collapsed": false,
     "input": [
      "L_array"
     ],
     "language": "python",
     "metadata": {},
     "outputs": []
    },
    {
     "cell_type": "code",
     "collapsed": false,
     "input": [
      "test1= [[1, -7, 12],[1, -5, 4],[1, -4, 3]]\n",
      "def test():\n",
      "    return reduce(lambda x,y:x*y,range(1,10))\n",
      "\n",
      "def poly_mult(test):\n",
      "    result_prod=[0]*(len(p)+len(q)-1)\n",
      "    for i in range(len(p)):\n",
      "        for j in range(len(q)):\n",
      "            result_prod[i+j]+=p[i]*q[j]\n",
      "    return result_prod\n",
      "test()"
     ],
     "language": "python",
     "metadata": {},
     "outputs": []
    },
    {
     "cell_type": "code",
     "collapsed": false,
     "input": [],
     "language": "python",
     "metadata": {},
     "outputs": []
    },
    {
     "cell_type": "code",
     "collapsed": false,
     "input": [],
     "language": "python",
     "metadata": {},
     "outputs": []
    }
   ],
   "metadata": {}
  }
 ]
}