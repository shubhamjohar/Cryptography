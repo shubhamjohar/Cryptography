{
 "metadata": {
  "name": "",
  "signature": "sha256:cc48ff96b13a7e830489607b97b513205ff0bd1ac9b229ff25bb7a2f00f4f80b"
 },
 "nbformat": 3,
 "nbformat_minor": 0,
 "worksheets": [
  {
   "cells": [
    {
     "cell_type": "code",
     "collapsed": false,
     "input": [
      "from IPython.display import display, Math, Latex\n",
      "import matplotlib.pyplot as plt"
     ],
     "language": "python",
     "metadata": {},
     "outputs": [],
     "prompt_number": 1
    },
    {
     "cell_type": "markdown",
     "metadata": {},
     "source": [
      "<h1>Euclid Algorithm to find G.C.D.</h1>"
     ]
    },
    {
     "cell_type": "code",
     "collapsed": false,
     "input": [
      "#Based on Euclid Algorithm\n",
      "#a>=b\n",
      "def gcd(a,b):\n",
      "    while b!=0:\n",
      "        r=a%b\n",
      "        a=b\n",
      "        b=r\n",
      "    return a"
     ],
     "language": "python",
     "metadata": {},
     "outputs": [],
     "prompt_number": 4
    },
    {
     "cell_type": "code",
     "collapsed": false,
     "input": [
      "gcd(4,2)"
     ],
     "language": "python",
     "metadata": {},
     "outputs": [
      {
       "metadata": {},
       "output_type": "pyout",
       "prompt_number": 5,
       "text": [
        "2"
       ]
      }
     ],
     "prompt_number": 5
    },
    {
     "cell_type": "markdown",
     "metadata": {},
     "source": [
      "<h1>Binary Euclid Algorithm to find G.C.D.</h1>"
     ]
    },
    {
     "cell_type": "code",
     "collapsed": false,
     "input": [
      "#Binary Euclidean Algorithm\n",
      "def binary_gcd(a,b):\n",
      "    if a==b:\n",
      "        return a\n",
      "    if a==0:\n",
      "        return b\n",
      "    if b==0:\n",
      "        return a\n",
      "    if a & 1==0:       #a is even\n",
      "        if b & 1:\n",
      "            return binary_gcd(a>>1,b)\n",
      "        else:\n",
      "            return binary_gcd(a>>1,b>>1)<<1\n",
      "    if a & 1:         #a is odd\n",
      "        if b & 1==0:  #b is even\n",
      "            return binary_gcd(a,b>>1)\n",
      "        else:\n",
      "            if a>=b:\n",
      "                return binary_gcd((a-b)>>1,b)\n",
      "            else:\n",
      "                return binary_gcd((b-1)>>1,a)\n",
      "    \n",
      "    \n",
      "    \n"
     ],
     "language": "python",
     "metadata": {},
     "outputs": [],
     "prompt_number": 6
    },
    {
     "cell_type": "code",
     "collapsed": false,
     "input": [
      "binary_gcd(120,12)"
     ],
     "language": "python",
     "metadata": {},
     "outputs": [
      {
       "metadata": {},
       "output_type": "pyout",
       "prompt_number": 7,
       "text": [
        "12"
       ]
      }
     ],
     "prompt_number": 7
    },
    {
     "cell_type": "markdown",
     "metadata": {},
     "source": [
      "<h1>Extended Euclid Algorithm for solving Congruences</h1>"
     ]
    },
    {
     "cell_type": "code",
     "collapsed": false,
     "input": [
      "#Extended Euclidean Algorithm\n",
      "\n",
      "def ext_euclid(a,b):\n",
      "    if b==0:\n",
      "        d=a\n",
      "        x=1\n",
      "        y=0\n",
      "        print(str(x)+\" \"+str(y))\n",
      "    x2=1\n",
      "    x1=0\n",
      "    y2=0\n",
      "    y1=1\n",
      "    while b>0:\n",
      "        q=a//b\n",
      "        r=a-q*b\n",
      "        x=x2-q*x1\n",
      "        y=y2-q*y1\n",
      "        a=b\n",
      "        b=r\n",
      "        x2=x1\n",
      "        x1=x\n",
      "        y2=y1\n",
      "        y1=y\n",
      "    d=a\n",
      "    x=x2\n",
      "    y=y2\n",
      "    print(str(x)+\" \"+str(y))\n",
      "    \n",
      "        "
     ],
     "language": "python",
     "metadata": {},
     "outputs": [],
     "prompt_number": 8
    },
    {
     "cell_type": "code",
     "collapsed": false,
     "input": [
      "ext_euclid(4864,3458)"
     ],
     "language": "python",
     "metadata": {},
     "outputs": [
      {
       "output_type": "stream",
       "stream": "stdout",
       "text": [
        "32 -45\n"
       ]
      }
     ],
     "prompt_number": 9
    },
    {
     "cell_type": "markdown",
     "metadata": {},
     "source": [
      "<h1>Printing Prime Numbers in a given range</h1>"
     ]
    },
    {
     "cell_type": "code",
     "collapsed": false,
     "input": [
      "#Based on Sieve of Eratosthenes\n",
      "def prime_numbers(n):\n",
      "    sieve = [True] * (n + 1)  # create a list n elements long\n",
      "    for i in range(2, int(sqrt(n)) + 1):\n",
      "        if sieve[i]:\n",
      "            for j in range(i * 2, n + 1, i):\n",
      "                sieve[j] = False\n",
      "    for i in range(2, n + 1):\n",
      "        if sieve[i]:\n",
      "            print(i)"
     ],
     "language": "python",
     "metadata": {},
     "outputs": [],
     "prompt_number": 10
    },
    {
     "cell_type": "code",
     "collapsed": false,
     "input": [
      "prime_numbers(5)"
     ],
     "language": "python",
     "metadata": {},
     "outputs": [
      {
       "output_type": "stream",
       "stream": "stdout",
       "text": [
        "2\n",
        "3\n",
        "5\n"
       ]
      }
     ],
     "prompt_number": 11
    },
    {
     "cell_type": "code",
     "collapsed": false,
     "input": [
      "#Based on Sieve of Eratosthenes\n",
      "def prime_numbers(n):\n",
      "    prime_array=[]\n",
      "    sieve=[True]*(n+1)\n",
      "    for i in range(2,int(sqrt(n))+1):\n",
      "        if sieve[i]:\n",
      "            for j in range(i*2,n+1,i):\n",
      "                sieve[j]=False\n",
      "    for i in range(2,n+1):\n",
      "        if sieve[i]:\n",
      "            #print(i)\n",
      "            prime_array.append(i)\n",
      "    return prime_array\n",
      "\n",
      "#Plotting of Primes\n",
      "x=range(0,100000,25000)\n",
      "size=len(x)\n",
      "b=[]\n",
      "for i in range(size):\n",
      "   b.append(len(prime_numbers(x[i])))\n",
      "#len(prime_numbers(100000))\n",
      "plt.xlabel(\"Range\")\n",
      "plt.ylabel(\"No of Primes\")\n",
      "plt.plot(x,b,'b')"
     ],
     "language": "python",
     "metadata": {},
     "outputs": [
      {
       "metadata": {},
       "output_type": "pyout",
       "prompt_number": 12,
       "text": [
        "[<matplotlib.lines.Line2D at 0x816b7b0>]"
       ]
      },
      {
       "metadata": {},
       "output_type": "display_data",
       "png": "[encoded data removed]",
       "text": [
        "<matplotlib.figure.Figure at 0x5ac18f0>"
       ]
      }
     ],
     "prompt_number": 12
    },
    {
     "cell_type": "code",
     "collapsed": false,
     "input": [
      "B=[int(i) for i in range(10)]\n",
      "B.remove(1)\n",
      "B"
     ],
     "language": "python",
     "metadata": {},
     "outputs": [
      {
       "metadata": {},
       "output_type": "pyout",
       "prompt_number": 13,
       "text": [
        "[0, 2, 3, 4, 5, 6, 7, 8, 9]"
       ]
      }
     ],
     "prompt_number": 13
    },
    {
     "cell_type": "code",
     "collapsed": false,
     "input": [
      "#brute force check for primality\n",
      "def check_prime(n):\n",
      "    count=0\n",
      "    for i in range(1,n+1):\n",
      "        if n%i==0:\n",
      "            count+=1\n",
      "    if count>2:\n",
      "        return 0                #Not Prime\n",
      "    else:\n",
      "        return 1                #Prime"
     ],
     "language": "python",
     "metadata": {},
     "outputs": [],
     "prompt_number": 14
    },
    {
     "cell_type": "code",
     "collapsed": false,
     "input": [
      "check_prime(4523)"
     ],
     "language": "python",
     "metadata": {},
     "outputs": [
      {
       "metadata": {},
       "output_type": "pyout",
       "prompt_number": 16,
       "text": [
        "1"
       ]
      }
     ],
     "prompt_number": 16
    },
    {
     "cell_type": "heading",
     "level": 1,
     "metadata": {},
     "source": [
      "Femrat's Primality Test"
     ]
    },
    {
     "cell_type": "code",
     "collapsed": false,
     "input": [
      "#k=number of times to test primality\n",
      "def exp_mod(a,k,n):\n",
      "    if a == 1:\n",
      "        return 0\n",
      "    c=1\n",
      "    for i in range(1,k+1):\n",
      "        c=(c*a)%n\n",
      "    return c\n",
      "\n",
      "def fermat_primality(number,k):\n",
      "    if number>3:\n",
      "        for i in range(k):\n",
      "            a=random.randint(2,number-2)\n",
      "            result=exp_mod(a,number-1,number)\n",
      "            if result==1:\n",
      "                fermat_primality(number,k-1)\n",
      "            else:\n",
      "                return 0\n",
      "        \n",
      "    elif number==2:\n",
      "        print(\"\\n 2 is even prime \")\n",
      "        return 1\n",
      "    elif number==0 or number==1:\n",
      "        print(\"\\n Invalid Input \")\n",
      "        return 0\n",
      "    \n",
      "fermat_primality(97,15)\n",
      "   "
     ],
     "language": "python",
     "metadata": {},
     "outputs": []
    },
    {
     "cell_type": "markdown",
     "metadata": {},
     "source": [
      "<h1>Stirling's approximation</h1>"
     ]
    },
    {
     "cell_type": "code",
     "collapsed": false,
     "input": [
      "def sterling_approx(n):\n",
      "    t1=math.sqrt(2*math.pi)\n",
      "    return t1*(n**((n+1)/2))*(math.e**(-n))\n",
      "sterling_approx(100)\n",
      "    "
     ],
     "language": "python",
     "metadata": {},
     "outputs": [
      {
       "metadata": {},
       "output_type": "pyout",
       "prompt_number": 9,
       "text": [
        "9.324847625269391e+56"
       ]
      }
     ],
     "prompt_number": 9
    },
    {
     "cell_type": "markdown",
     "metadata": {},
     "source": [
      "<h1>Euclid Totient</h1>\n",
      "Number $n$ is written as $n=p_1^{k_1}p_2^{k_2}....p_i^{k_i}$ \n",
      "\n",
      "$\\phi(n)=n(1-\\frac{1}{p_1})(1-\\frac{1}{p_2}).......(1-\\frac{1}{p_i})$ where $p_i$ is a prime that divides $n$"
     ]
    },
    {
     "cell_type": "code",
     "collapsed": false,
     "input": [
      "# phi(n) calculates the numbers less than n that are relatively prime with 'n'\n",
      "def check_prime(n):\n",
      "    count=0\n",
      "    for i in range(1,n+1):\n",
      "        if n%i==0:\n",
      "            count+=1\n",
      "    if count>2:\n",
      "        return 0                #Not Prime\n",
      "    else:\n",
      "        return 1                #Prime\n",
      "    \n",
      "def phi(n):\n",
      "    result=n\n",
      "    #for prime numbers phi(n)=n-1\n",
      "    if check_prime(n):\n",
      "        return n-1\n",
      "    else:\n",
      "        for i in range(2,n):\n",
      "            if n%i==0 and check_prime(i):\n",
      "                result*=(1.0-float((1.0/float(i))))\n",
      "           # print(result)\n",
      "    return int(result)\n",
      "\n",
      "phi(100)\n",
      "\n",
      "#N vs Phi(N) Graph\n",
      "x=range(1,200)\n",
      "y=[phi(x1) for x1 in x]\n",
      "plt.xlabel(\"Numbers\")\n",
      "plt.ylabel(\"Phi(n)\")\n",
      "plt.plot(x,y,'bo',markersize=4)"
     ],
     "language": "python",
     "metadata": {},
     "outputs": [
      {
       "metadata": {},
       "output_type": "pyout",
       "prompt_number": 17,
       "text": [
        "[<matplotlib.lines.Line2D at 0x833c7d0>]"
       ]
      },
      {
       "metadata": {},
       "output_type": "display_data",
       "png": "[encoded data removed]",
       "text": [
        "<matplotlib.figure.Figure at 0x816bdd0>"
       ]
      }
     ],
     "prompt_number": 17
    },
    {
     "cell_type": "code",
     "collapsed": false,
     "input": [
      "#Extended Euclid Algorithm for RSA\n",
      "def ext_euclid(a,b):\n",
      "    if b==0:\n",
      "        d=a\n",
      "        x=1\n",
      "        y=0\n",
      "        print(str(x)+\" \"+str(y))\n",
      "    x2=1\n",
      "    x1=0\n",
      "    y2=0\n",
      "    y1=1\n",
      "    while b>0:\n",
      "        q=int(math.floor(a/b))\n",
      "        r=a-q*b\n",
      "        x=x2-q*x1\n",
      "        y=y2-q*y1\n",
      "        a=b\n",
      "        b=r\n",
      "        x2=x1\n",
      "        x1=x\n",
      "        y2=y1\n",
      "        y1=y\n",
      "    d=a\n",
      "    x=x2\n",
      "    y=y2\n",
      "   # print(str(x)+\" \"+str(y))\n",
      "    return x2\n"
     ],
     "language": "python",
     "metadata": {},
     "outputs": [],
     "prompt_number": 18
    },
    {
     "cell_type": "markdown",
     "metadata": {},
     "source": [
      "<h1>Modular Exponentiation</h1>"
     ]
    },
    {
     "cell_type": "code",
     "collapsed": false,
     "input": [
      "#Modulo Exponentiation\n",
      "def exp_mod(a,k,n):\n",
      "    if a == 1:\n",
      "        return 0\n",
      "    c=1\n",
      "    for i in range(1,k+1):\n",
      "        c=(c*a)%n\n",
      "    return c"
     ],
     "language": "python",
     "metadata": {},
     "outputs": [],
     "prompt_number": 19
    },
    {
     "cell_type": "markdown",
     "metadata": {},
     "source": [
      "<h1>R.S.A. Algorithm</h1>"
     ]
    },
    {
     "cell_type": "code",
     "collapsed": false,
     "input": [
      "#RSA Algorithm\n",
      "    \n",
      "#print(check_prime(2357))\n",
      "#print(check_prime(2551))\n",
      "\n",
      "def calc_e(phi_value):\n",
      "    found_e=1\n",
      "    while found_e:\n",
      "        e=random.randint(1,phi_value)\n",
      "        if binary_gcd(e,phi_value)==1:\n",
      "             found_e=0\n",
      "    return e\n",
      "\n",
      "def encrypt(phi_value,n):\n",
      "    d_found=1\n",
      "    while d_found:\n",
      "       e=calc_e(phi_value)\n",
      "       d=ext_euclid(e,phi_value)\n",
      "       if d>0:\n",
      "           d_found=0\n",
      "    print(\"Secret Key of A is\",d)\n",
      "    print(\"E value is\",e)\n",
      "    #MESSAGE\n",
      "    message=5234673\n",
      "    #Or  message=input()\n",
      "    print(\"Message is\",message)\n",
      "    cipher_text=exp_mod(message,e,n)\n",
      "    \n",
      "    #Display Cipher Text \n",
      "    print(\"Cipher Text is \",cipher_text)\n",
      "    return str(cipher_text)+\" \"+str(d)\n",
      "\n",
      "def  decrypt(cipher_text,d,n):\n",
      "    return exp_mod(cipher_text,d,n)\n",
      "\n",
      "def RSA(p,q):\n",
      "    n=p*q\n",
      "    phi_value=(p-1)*(q-1)\n",
      "    #Encryption by B\n",
      "    cipher_text,d=encrypt(phi_value,n).split(' ')\n",
      "    cipher_text,d=[int(cipher_text),int(d)]\n",
      "    #Decryption  by A\n",
      "    message_decrypt=exp_mod(cipher_text,d,n)\n",
      "   \n",
      "    print(\"Decypted message is\",decrypt(cipher_text,d,n))"
     ],
     "language": "python",
     "metadata": {},
     "outputs": [],
     "prompt_number": 21
    },
    {
     "cell_type": "code",
     "collapsed": false,
     "input": [
      "RSA(2357,2551)"
     ],
     "language": "python",
     "metadata": {},
     "outputs": [
      {
       "output_type": "stream",
       "stream": "stdout",
       "text": [
        "('Secret Key of A is', 2380693)\n",
        "('E value is', 4834957)\n",
        "('Message is', 5234673)\n",
        "('Cipher Text is ', 722842L)"
       ]
      },
      {
       "output_type": "stream",
       "stream": "stdout",
       "text": [
        "\n",
        "('Decypted message is', 5234673L)"
       ]
      },
      {
       "output_type": "stream",
       "stream": "stdout",
       "text": [
        "\n"
       ]
      }
     ],
     "prompt_number": 22
    },
    {
     "cell_type": "markdown",
     "metadata": {},
     "source": [
      "<h1>DES</h1>\n",
      "<img src=\"https://www.tutorialspoint.com/cryptography/images/des_structure.jpg\">"
     ]
    },
    {
     "cell_type": "heading",
     "level": 2,
     "metadata": {},
     "source": [
      "One-time pad"
     ]
    },
    {
     "cell_type": "code",
     "collapsed": false,
     "input": [
      "def convert_to_bits(n,padding):\n",
      "    result=[]\n",
      "    while n>0:\n",
      "        if n%2==0:\n",
      "            result=[0]+result\n",
      "        else:\n",
      "            result=[1]+result\n",
      "        n=int(n/2)\n",
      "    while len(result)<padding:\n",
      "        result=[0]+result\n",
      "    return result"
     ],
     "language": "python",
     "metadata": {},
     "outputs": [],
     "prompt_number": 7
    },
    {
     "cell_type": "code",
     "collapsed": false,
     "input": [
      "convert_to_bits(1,5)"
     ],
     "language": "python",
     "metadata": {},
     "outputs": [
      {
       "metadata": {},
       "output_type": "pyout",
       "prompt_number": 9,
       "text": [
        "[0, 0, 0, 0, 1]"
       ]
      }
     ],
     "prompt_number": 9
    },
    {
     "cell_type": "code",
     "collapsed": false,
     "input": [
      "def string_to_bits(message):\n",
      "    result=[]\n",
      "    for i in range(len(message)):\n",
      "        result.append(convert_to_bits(ord(message[i]),7))\n",
      "    return result"
     ],
     "language": "python",
     "metadata": {},
     "outputs": [],
     "prompt_number": 37
    },
    {
     "cell_type": "code",
     "collapsed": false,
     "input": [
      "print(string_to_bits(\"SHUBHAM\"))"
     ],
     "language": "python",
     "metadata": {},
     "outputs": [
      {
       "output_type": "stream",
       "stream": "stdout",
       "text": [
        "[[1, 0, 1, 0, 0, 1, 1], [1, 0, 0, 1, 0, 0, 0], [1, 0, 1, 0, 1, 0, 1], [1, 0, 0, 0, 0, 1, 0], [1, 0, 0, 1, 0, 0, 0], [1, 0, 0, 0, 0, 0, 1], [1, 0, 0, 1, 1, 0, 1]]\n"
       ]
      }
     ],
     "prompt_number": 38
    },
    {
     "cell_type": "code",
     "collapsed": false,
     "input": [
      "#Mainly for Binary Numbers(Not Modified)\n",
      "def XOR(x,y):\n",
      "    if x==y:\n",
      "        return 0\n",
      "    else:\n",
      "        return 1"
     ],
     "language": "python",
     "metadata": {},
     "outputs": [],
     "prompt_number": 20
    },
    {
     "cell_type": "code",
     "collapsed": false,
     "input": [
      "XOR(1,0)"
     ],
     "language": "python",
     "metadata": {},
     "outputs": [
      {
       "metadata": {},
       "output_type": "pyout",
       "prompt_number": 21,
       "text": [
        "1"
       ]
      }
     ],
     "prompt_number": 21
    },
    {
     "cell_type": "markdown",
     "metadata": {},
     "source": [
      "A positive integer $n$ has $b$ bits when $2^{b-1} \\leq n \\leq 2^{b} \u2013 1$"
     ]
    },
    {
     "cell_type": "code",
     "collapsed": false,
     "input": [
      "import math\n",
      "floor(log2(49)+1)"
     ],
     "language": "python",
     "metadata": {},
     "outputs": [
      {
       "metadata": {},
       "output_type": "pyout",
       "prompt_number": 29,
       "text": [
        "6.0"
       ]
      }
     ],
     "prompt_number": 29
    },
    {
     "cell_type": "heading",
     "level": 1,
     "metadata": {},
     "source": [
      "Miller-Rabin Test"
     ]
    },
    {
     "cell_type": "code",
     "collapsed": false,
     "input": [
      "def miller_rabin(n,t):\n",
      "    for i in range(1,t):\n",
      "        s,r=find_sr(n-1).split(' ')\n",
      "        a=random.randint(2,(n-2)+1)\n",
      "        y=exp_mod(a,r,n)\n",
      "        if y!=1 and y!=n-1:\n",
      "            j=1\n",
      "            while j<=s-1 and y!=n-1:\n",
      "                y=y**2%n\n",
      "                if y==1:\n",
      "                    return 0\n",
      "                    j+=1\n",
      "            if y!=n-1:\n",
      "                return 0\n",
      "    return 1\n",
      "    #return \"{0:b}\".format(n-1)\n",
      "\n",
      "def  find_sr(n):\n",
      "    return str(3)+\" \"+str(5)\n",
      "\n",
      "def exp_mod(a,k,n):\n",
      "    if a == 1:\n",
      "        return 0\n",
      "    c=1\n",
      "    for i in range(1,k+1):\n",
      "        c=(c*a)%n\n",
      "    return c\n",
      "\n",
      "miller_rabin(91,1)\n",
      "    "
     ],
     "language": "python",
     "metadata": {},
     "outputs": [
      {
       "metadata": {},
       "output_type": "pyout",
       "prompt_number": 25,
       "text": [
        "1"
       ]
      }
     ],
     "prompt_number": 25
    },
    {
     "cell_type": "heading",
     "level": 1,
     "metadata": {},
     "source": [
      "Elgmal Algorithm"
     ]
    },
    {
     "cell_type": "markdown",
     "metadata": {},
     "source": [
      "ElGamal encryption consists of three components: \n",
      "<ol>\n",
      "<li><strong>the key generator</strong></li>\n",
      "The key generator works as follows:\n",
      "<ul>\n",
      "        <li>Alice generates an efficient description of a cyclic group $G$,of order $q$, with generator $g$.</li>\n",
      "        <li>Alice chooses an $x$ randomly from ${1,.....q-1}$.</li>\n",
      "        <li>Alice computes $h:=g^{x}$.</li>\n",
      "        <li>Alice publishes $h$, along with the description of $G,q,g$ as her public key. Alice retains $x$ x as her private key, which must be kept secret</li>\n",
      "</ul>\n",
      "<li>the encryption algorithm</li> \n",
      "<li>and the decryption algorithm</li>\n",
      "<ol>"
     ]
    },
    {
     "cell_type": "code",
     "collapsed": false,
     "input": [
      "import random\n",
      "\n",
      "def large_prime():\n",
      "    a=int(input(\"Enter a large prime for test case\"))\n",
      "    found=1\n",
      "    while found:\n",
      "        a=random.randint(10000,99999)\n",
      "        if check_prime(a):\n",
      "            found=0\n",
      "    return a\n",
      "\n",
      "def  check_prime(n):\n",
      "    count=0\n",
      "    for i in range(1,n+1):\n",
      "        if n%i==0:\n",
      "            count+=1\n",
      "    if count>2:\n",
      "        return 0 \n",
      "    else:\n",
      "        return 1  \n",
      "\n",
      "def binary_gcd(a,b):\n",
      "    if a==b:\n",
      "        return a\n",
      "    if a==0:\n",
      "        return b\n",
      "    if b==0:\n",
      "        return a\n",
      "    if a & 1==0:       #a is even\n",
      "        if b & 1:\n",
      "            return binary_gcd(a>>1,b)\n",
      "        else:\n",
      "            return binary_gcd(a>>1,b>>1)<<1\n",
      "    if a & 1:         #a is odd\n",
      "        if b & 1==0:  #b is even\n",
      "            return binary_gcd(a,b>>1)\n",
      "        else:\n",
      "            if a>=b:\n",
      "                return binary_gcd((a-b)>>1,b)\n",
      "            else:\n",
      "                return binary_gcd((b-1)>>1,a)\n",
      "\n",
      "def phi(n):\n",
      "    result=n\n",
      "    #for prime numbers phi(n)=n-1\n",
      "    if check_prime(n):\n",
      "        return n-1\n",
      "    else:\n",
      "        for i in range(2,n):\n",
      "            if n%i==0 and check_prime(i):\n",
      "                result*=(1.0-float((1.0/float(i))))\n",
      "           # print(result)\n",
      "    return int(result)\n",
      "\n",
      "def gener(p,phi_value):\n",
      "    coprime=[]\n",
      "    for i in range(1,p):\n",
      "        if binary_gcd(p,i)==1:\n",
      "            coprime.append(i)\n",
      "    generators=[]\n",
      "    for i in range(len(coprime)):\n",
      "        for j in range(phi_value+1):\n",
      "            if exp_mod(coprime[i],j,p)==1:\n",
      "                if j<phi_value:\n",
      "                    break\n",
      "                else:\n",
      "                    generators.append(coprime[i])\n",
      "    return generators\n",
      "\n",
      "def exp_mod(a,k,n):\n",
      "    if a == 1:\n",
      "        return 0\n",
      "    c=1\n",
      "    for i in range(1,k+1):\n",
      "        c=(c*a)%n\n",
      "    return c\n",
      "\n",
      "def encryption(p,alpha,temp):\n",
      "    message=int(input(\"Enter the message\"))\n",
      "    k=random.randint(1,(p-2)+1)\n",
      "    gamma=exp_mod(alpha,k,p)\n",
      "    delta=m*exp_mod(temp,k,p)\n",
      "    print(\"Cipher Text is\",gamma,delta)\n",
      "    return str(gamma)+\" \"+str(delta)\n",
      "    \n",
      "def decryption(cipher):\n",
      "    gamma,delta=cipher.split(' ')\n",
      "    gamma,delta=[int(gamma),int(delta)]\n",
      "    return ((gamma**(-a))*delta)%p\n",
      "\n",
      "\n",
      "def Elgamal():\n",
      "#\tp=large_prime()\n",
      "    p=2357\n",
      "    alp=gener(p,p-1)\n",
      "    print(alp)\n",
      "#\tran=random.randint(len(alp))\n",
      "#\talpha=alp[ran]\n",
      "#\ta=random.randint(1,(p-2)+1)\n",
      "#\ttemp=exp_mod(alpha,a,p)\n",
      "#\tprint(\"A's private key is\",a)\n",
      "#\tprint(\"A's public key is\",p,alpha,temp)\n",
      "#\tciphert_text=encryption(p,alpha,alpha**a)\n",
      "#\tprint(\"Cipher text is\",cipher_text)\n",
      "#\tmessage=decryption(cipher_text)\n",
      "#\tprint(\"Decrypted message is\")\n",
      "\n",
      "\n",
      "\n",
      "Elgamal()\n"
     ],
     "language": "python",
     "metadata": {},
     "outputs": [
      {
       "output_type": "stream",
       "stream": "stdout",
       "text": [
        "[]\n"
       ]
      }
     ],
     "prompt_number": 4
    },
    {
     "cell_type": "code",
     "collapsed": false,
     "input": [],
     "language": "python",
     "metadata": {},
     "outputs": []
    }
   ],
   "metadata": {}
  }
 ]
}