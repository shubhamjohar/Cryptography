{
 "metadata": {
  "name": "",
  "signature": "sha256:288c3b14bbd315343cd9f65a33fadcaf170ab1a63bbf583dd2c617bef16e7623"
 },
 "nbformat": 3,
 "nbformat_minor": 0,
 "worksheets": [
  {
   "cells": [
    {
     "cell_type": "markdown",
     "metadata": {},
     "source": [
      "<h1>Introduction</h1>\n",
      "The Data Encryption Standard (DES) was jointly developed in 1974 by IBM and the U.S. government (US patent 3,962,539) to set a standard that everyone could use to securely communicate with each other. It operates on blocks of 64 bits using a secret key that is 56 bits long. The original proposal used a secret key that was 64 bits long. It is widely believed that the removal of these 8 bits from the key was done to make it possible for U.S. government agencies to secretly crack messages.\n",
      "\n",
      "DES started out as the \"Lucifer\" algorithm developed by IBM. The US National Security Agency (NSA) made several modifications, after which it was adopted as Federal Information Processing Standard (FIPS) standard 46-3 and ANSI standard X3.92."
     ]
    },
    {
     "cell_type": "markdown",
     "metadata": {},
     "source": [
      "<h1>How DES works</h1>\n",
      "\n",
      "Encryption of a block of the message takes place in 16 stages or rounds. From the input key, sixteen 48 bit keys are generated, one for each round. In each round, eight so-called S-boxes are used. These S-boxes are fixed in the specification of the standard. Using the S-boxes, groups of six bits are mapped to groups of four bits. The contents of these S-boxes has been determined by the U.S. National Security Agency (NSA). The S-boxes appear to be randomly filled, but this is not the case. Recently it has been discovered that these S-boxes, determined in the 1970s, are resistant against an attack called differential cryptanalysis which was first known in the 1990s.\n",
      "\n",
      "The block of the message is divided into two halves. The right half is expanded from 32 to 48 bits using another fixed table. The result is combined with the subkey for that round using the XOR operation. Using the S-boxes the 48 resulting bits are then transformed again to 32 bits, which are subsequently permutated again using yet another fixed table. This by now thoroughly shuffled right half is now combined with the left half using the XOR operation. In the next round, this combination is used as the new left half.\n",
      "\n",
      "The various permutations and transformations in the\n",
      "DES encryption algorithm\n",
      "\n",
      "<img src=\"http://www.iusmentis.com/technology/encryption/des/des.gif\">\n",
      "The figure should hopefully make this process a bit more clear. In the figure, the left and right halves are denotes as L0 and R0, and in subsequent rounds as L1, R1, L2, R2 and so on. The function f is responsible for all the mappings described above.\n",
      "\n",
      "<h1>Security of DES</h1>\n",
      "\n",
      "This secret key encryption algorithm uses a key that is 56 bits, or seven characters long. At the time it was believed that trying out all 72,057,594,037,927,936 possible keys (a seven with 16 zeros) would be impossible because computers could not possibly ever become fast enough. In 1998 the Electronic Frontier Foundation (EFF) built a special-purpose machine that could decrypt a message by trying out all possible keys in less than three days. The machine cost less than $250,000 and searched over 88 billion keys per second.\n",
      "\n",
      "<h1>Triple-DES</h1>\n",
      "\n",
      "The Triple-DES variant was developed after it became clear that DES by itself was too easy to crack. It uses three 56-bit DES keys, giving a total key length of 168 bits. Encryption using Triple-DES is simply\n",
      "\n",
      "encryption using DES with the first 56-bit key\n",
      "decryption using DES with the second 56-bit key\n",
      "encryption using DES with the third 56-bit key\n",
      "Because Triple-DES applies the DES algorithm three times (hence the name), Triple-DES takes three times as long as standard DES. Decryption using Triple-DES is the same as the encryption, except it is executed in reverse."
     ]
    },
    {
     "cell_type": "markdown",
     "metadata": {},
     "source": [
      " The overall Feistel structure of DES\n",
      "<img src=\"https://upload.wikimedia.org/wikipedia/commons/thumb/6/6a/DES-main-network.png/250px-DES-main-network.png\">"
     ]
    },
    {
     "cell_type": "markdown",
     "metadata": {},
     "source": [
      "The Feistel function (F-function) of DES\n",
      "<img src=\"https://upload.wikimedia.org/wikipedia/commons/thumb/2/25/Data_Encription_Standard_Flow_Diagram.svg/250px-Data_Encription_Standard_Flow_Diagram.svg.png\">"
     ]
    },
    {
     "cell_type": "code",
     "collapsed": false,
     "input": [],
     "language": "python",
     "metadata": {},
     "outputs": [],
     "prompt_number": 216
    },
    {
     "cell_type": "markdown",
     "metadata": {},
     "source": [
      "The key-schedule of DES\n",
      "<img src=\"https://upload.wikimedia.org/wikipedia/commons/thumb/0/06/DES-key-schedule.png/250px-DES-key-schedule.png\">"
     ]
    },
    {
     "cell_type": "markdown",
     "metadata": {},
     "source": [
      "<h1>Some Preliminary Examples of DES</h1>\n",
      "DES works on bits,or thebinary numbers==0s and 1s common to digital computers.Each group of four bits makes up a hexadecimal or base 16 number.\n",
      "<br>\n",
      "DES works by encrypting groups of 64 message bits,which is same as 16 hexadecimal numbers.\n",
      "To do the encryption,DES uses \"keys\" which are also apparently 16 hexadecimal numbers long or apparently 64 bits long.however 8th key bit is ignored in the DES algorithm,so that the effective key size is 6 bits.\n"
     ]
    },
    {
     "cell_type": "markdown",
     "metadata": {},
     "source": [
      "<h1>How DES Works in Detail</h1>\n",
      "DES is a block cipher-meaning that it operates on plaintext blocks of a given size(64-bits) and returns ciphertext blocks of the same size.Thus DES results in a permutation ammong the 2^64 possible arrangements of 64 bits,each of which may be either 0 or 1.\n",
      "<br>\n",
      "Each block of 64 bits is divided into two blocks of 32 bits each,a left half block L and a right half R.\n"
     ]
    },
    {
     "cell_type": "code",
     "collapsed": false,
     "input": [
      "hex_array={\n",
      "'0':0,\n",
      "'1':1,\n",
      "'2':2,\n",
      "'3':3,\n",
      "'4':4,\n",
      "'5':5,\n",
      "'6':6,\n",
      "'7':7,\n",
      "'8':8,\n",
      "'9':9,\n",
      "'A':10,\n",
      "'B':11,\n",
      "'C':12,\n",
      "'D':13,\n",
      "'E':14,\n",
      "'F':15\n",
      "}"
     ],
     "language": "python",
     "metadata": {},
     "outputs": [],
     "prompt_number": 217
    },
    {
     "cell_type": "code",
     "collapsed": false,
     "input": [
      "hex_array['A']"
     ],
     "language": "python",
     "metadata": {},
     "outputs": [
      {
       "metadata": {},
       "output_type": "pyout",
       "prompt_number": 218,
       "text": [
        "10"
       ]
      }
     ],
     "prompt_number": 218
    },
    {
     "cell_type": "markdown",
     "metadata": {},
     "source": [
      "<strong>Example</strong>\n",
      "Let M be the plain text message M=0123456789ABCDEF"
     ]
    },
    {
     "cell_type": "code",
     "collapsed": false,
     "input": [
      "def convert_to_bits(n,padding):\n",
      "    result=[]\n",
      "    while n>0:\n",
      "        if n%2==0:\n",
      "            result=[0]+result\n",
      "        else:\n",
      "            result=[1]+result\n",
      "        n=int(n/2)\n",
      "    while len(result)<padding:\n",
      "        result=[0]+result\n",
      "    return result"
     ],
     "language": "python",
     "metadata": {},
     "outputs": [],
     "prompt_number": 219
    },
    {
     "cell_type": "code",
     "collapsed": false,
     "input": [
      "M='0123456789ABCDEF'\n",
      "#M='85E813540F0AB405'\n",
      "size_M=len(M)\n",
      "M_bin=[]\n",
      "for i in range(size_M):\n",
      "   M_bin.append(convert_to_bits(hex_array[M[i]],4))\n",
      "    \n",
      "message=[]\n",
      "for i in range(len(M_bin)):\n",
      "    message+=M_bin[i]\n",
      "print \"Mesage in binary is\",message"
     ],
     "language": "python",
     "metadata": {},
     "outputs": [
      {
       "output_type": "stream",
       "stream": "stdout",
       "text": [
        "Mesage in binary is [0, 0, 0, 0, 0, 0, 0, 1, 0, 0, 1, 0, 0, 0, 1, 1, 0, 1, 0, 0, 0, 1, 0, 1, 0, 1, 1, 0, 0, 1, 1, 1, 1, 0, 0, 0, 1, 0, 0, 1, 1, 0, 1, 0, 1, 0, 1, 1, 1, 1, 0, 0, 1, 1, 0, 1, 1, 1, 1, 0, 1, 1, 1, 1]\n"
       ]
      }
     ],
     "prompt_number": 298
    },
    {
     "cell_type": "heading",
     "level": 5,
     "metadata": {},
     "source": [
      "Each block of 64 bits is divided into two blocks of 32 bits each, a left half block L and a right half R"
     ]
    },
    {
     "cell_type": "code",
     "collapsed": false,
     "input": [
      "L=message[:32]\n",
      "print \"L=\",L\n",
      "R=message[32:]\n",
      "print \"R=\",R"
     ],
     "language": "python",
     "metadata": {},
     "outputs": [
      {
       "output_type": "stream",
       "stream": "stdout",
       "text": [
        "L= [0, 0, 0, 0, 0, 0, 0, 1, 0, 0, 1, 0, 0, 0, 1, 1, 0, 1, 0, 0, 0, 1, 0, 1, 0, 1, 1, 0, 0, 1, 1, 1]\n",
        "R= [1, 0, 0, 0, 1, 0, 0, 1, 1, 0, 1, 0, 1, 0, 1, 1, 1, 1, 0, 0, 1, 1, 0, 1, 1, 1, 1, 0, 1, 1, 1, 1]\n"
       ]
      }
     ],
     "prompt_number": 299
    },
    {
     "cell_type": "heading",
     "level": 5,
     "metadata": {},
     "source": [
      "DES operates on the 64-bit blocks using key sizes of 56- bits. The keys are actually stored as being 64 bits long, but every 8th bit in the key is not used (i.e. bits numbered 8, 16, 24, 32, 40, 48, 56, and 64). However, we will nevertheless number the bits from 1 to 64, going left to right, in the following calculations. But, as you will see, the eight bits just mentioned get eliminated when we create subkeys."
     ]
    },
    {
     "cell_type": "code",
     "collapsed": false,
     "input": [
      "#K='1334577991234561'\n",
      "K='133457799BBCDFF1'\n",
      "\n",
      "size_K=len(K)\n",
      "K_bin=[]\n",
      "for i in range(size_K):\n",
      "   K_bin.append(convert_to_bits(hex_array[K[i]],4))\n",
      "    \n",
      "K_bin\n",
      "    \n",
      "\n",
      "\n",
      "key=[]\n",
      "message+=M_bin[i]\n",
      "for i in range(len(K_bin)):\n",
      "    key+=K_bin[i]\n",
      "print \"Key is:\",key,\"\\nKey length is\",len(key)\n",
      "    "
     ],
     "language": "python",
     "metadata": {},
     "outputs": [
      {
       "output_type": "stream",
       "stream": "stdout",
       "text": [
        "Key is: [0, 0, 0, 1, 0, 0, 1, 1, 0, 0, 1, 1, 0, 1, 0, 0, 0, 1, 0, 1, 0, 1, 1, 1, 0, 1, 1, 1, 1, 0, 0, 1, 1, 0, 0, 1, 1, 0, 1, 1, 1, 0, 1, 1, 1, 1, 0, 0, 1, 1, 0, 1, 1, 1, 1, 1, 1, 1, 1, 1, 0, 0, 0, 1] \n",
        "Key length is 64\n"
       ]
      }
     ],
     "prompt_number": 300
    },
    {
     "cell_type": "heading",
     "level": 1,
     "metadata": {},
     "source": [
      "STEP 1:\n",
      "<br>Create 16 subkeys, each of which is 48-bits long"
     ]
    },
    {
     "cell_type": "markdown",
     "metadata": {},
     "source": [
      "The combination of substitutions and permutations is called a product cipher.\n",
      "The key is ciphered on $64$ bits and made of $16$ blocks of $4$ bits, generally denoted $k_1$ to $k_{16}$. Given that \"only\" $56$ bits are actually used for encrypting, there can be $2^{56}$ (or $7.2*10^{16}$) different keys!\n",
      "\n",
      "The main parts of the algorithm are as follows:\n",
      "\n",
      "<ul>\n",
      "<li>Fractioning of the text into 64-bit (8 octet) blocks.</li>\n",
      "<li>Initial permutation of blocks.</li>\n",
      "<li>Breakdown of the blocks into two parts: left and right, named L and R.</li>\n",
      "<li>Permutation and substitution steps repeated 16 times (called rounds).</li>\n",
      "<li>Re-joining of the left and right parts then inverse initial permutation.</li>\n",
      "</ul>\n",
      "\n",
      "<img src=\"http://static.commentcamarche.net/en.kioskea.net/pictures/crypto-images-algodes.gif\">"
     ]
    },
    {
     "cell_type": "code",
     "collapsed": false,
     "input": [
      "PC_1=[57,49,41,33,25,17,9,\n",
      "      1,58,50,42,34,26,18,\n",
      "      10,2,59,51,43,35,27,\n",
      "      19,11 ,3,60,52,44,36,\n",
      "      63,55,47,39,31,23,15,\n",
      "      7,62,54,46,38,30,22,\n",
      "      14,6,61,53,45,37,29,\n",
      "      21,13,5,28,20,12,4\n",
      "]"
     ],
     "language": "python",
     "metadata": {},
     "outputs": [],
     "prompt_number": 301
    },
    {
     "cell_type": "code",
     "collapsed": false,
     "input": [
      "#Calculating K+\n",
      "K_plus=[]\n",
      "for i in range(len(PC_1)):\n",
      "    K_plus.append(int(key[PC_1[i]-1]))\n",
      "\n",
      "print(K_plus)\n",
      "    "
     ],
     "language": "python",
     "metadata": {},
     "outputs": [
      {
       "output_type": "stream",
       "stream": "stdout",
       "text": [
        "[1, 1, 1, 1, 0, 0, 0, 0, 1, 1, 0, 0, 1, 1, 0, 0, 1, 0, 1, 0, 1, 0, 1, 0, 1, 1, 1, 1, 0, 1, 0, 1, 0, 1, 0, 1, 0, 1, 1, 0, 0, 1, 1, 0, 0, 1, 1, 1, 1, 0, 0, 0, 1, 1, 1, 1]\n"
       ]
      }
     ],
     "prompt_number": 302
    },
    {
     "cell_type": "code",
     "collapsed": false,
     "input": [
      "len(K_plus)"
     ],
     "language": "python",
     "metadata": {},
     "outputs": [
      {
       "metadata": {},
       "output_type": "pyout",
       "prompt_number": 303,
       "text": [
        "56"
       ]
      }
     ],
     "prompt_number": 303
    },
    {
     "cell_type": "code",
     "collapsed": false,
     "input": [
      "C0=K_plus[:28]\n",
      "D0=K_plus[28:]\n",
      "\n",
      "print \"C0 is\",C0\n",
      "print \"D0 is\",D0"
     ],
     "language": "python",
     "metadata": {},
     "outputs": [
      {
       "output_type": "stream",
       "stream": "stdout",
       "text": [
        "C0 is [1, 1, 1, 1, 0, 0, 0, 0, 1, 1, 0, 0, 1, 1, 0, 0, 1, 0, 1, 0, 1, 0, 1, 0, 1, 1, 1, 1]\n",
        "D0 is [0, 1, 0, 1, 0, 1, 0, 1, 0, 1, 1, 0, 0, 1, 1, 0, 0, 1, 1, 1, 1, 0, 0, 0, 1, 1, 1, 1]\n"
       ]
      }
     ],
     "prompt_number": 304
    },
    {
     "cell_type": "code",
     "collapsed": false,
     "input": [
      "#For generating 16 keys\n",
      "\n",
      "left_shifts=[1,1,2,2,2,2,2,2,1,2,2,2,2,2,2,1]\n",
      "\n",
      "len(left_shifts)"
     ],
     "language": "python",
     "metadata": {},
     "outputs": [
      {
       "metadata": {},
       "output_type": "pyout",
       "prompt_number": 305,
       "text": [
        "16"
       ]
      }
     ],
     "prompt_number": 305
    },
    {
     "cell_type": "code",
     "collapsed": false,
     "input": [
      "C=[]\n",
      "C.append(C0)\n",
      "for i in range(1,17):\n",
      "    temp=left_shift(C[i-1],left_shifts[i-1])\n",
      "    C.append(temp)\n",
      "\n",
      "D=[]\n",
      "D.append(D0)\n",
      "for i in range(1,17):\n",
      "    temp=left_shift(D[i-1],left_shifts[i-1])\n",
      "    D.append(temp)\n",
      "      \n",
      "print(\"\\nC array is\")\n",
      "for i in range(len(C)):\n",
      "    print C[i]\n",
      "\n",
      "print(\"\\nD array is\")\n",
      "for i in range(len(D)):\n",
      "    print D[i]\n",
      "\n"
     ],
     "language": "python",
     "metadata": {},
     "outputs": [
      {
       "output_type": "stream",
       "stream": "stdout",
       "text": [
        "\n",
        "C array is\n",
        "[1, 1, 1, 1, 0, 0, 0, 0, 1, 1, 0, 0, 1, 1, 0, 0, 1, 0, 1, 0, 1, 0, 1, 0, 1, 1, 1, 1]\n",
        "[1, 1, 1, 0, 0, 0, 0, 1, 1, 0, 0, 1, 1, 0, 0, 1, 0, 1, 0, 1, 0, 1, 0, 1, 1, 1, 1, 1]\n",
        "[1, 1, 0, 0, 0, 0, 1, 1, 0, 0, 1, 1, 0, 0, 1, 0, 1, 0, 1, 0, 1, 0, 1, 1, 1, 1, 1, 1]\n",
        "[0, 0, 0, 0, 1, 1, 0, 0, 1, 1, 0, 0, 1, 0, 1, 0, 1, 0, 1, 0, 1, 1, 1, 1, 1, 1, 1, 1]\n",
        "[0, 0, 1, 1, 0, 0, 1, 1, 0, 0, 1, 0, 1, 0, 1, 0, 1, 0, 1, 1, 1, 1, 1, 1, 1, 1, 0, 0]\n",
        "[1, 1, 0, 0, 1, 1, 0, 0, 1, 0, 1, 0, 1, 0, 1, 0, 1, 1, 1, 1, 1, 1, 1, 1, 0, 0, 0, 0]\n",
        "[0, 0, 1, 1, 0, 0, 1, 0, 1, 0, 1, 0, 1, 0, 1, 1, 1, 1, 1, 1, 1, 1, 0, 0, 0, 0, 1, 1]\n",
        "[1, 1, 0, 0, 1, 0, 1, 0, 1, 0, 1, 0, 1, 1, 1, 1, 1, 1, 1, 1, 0, 0, 0, 0, 1, 1, 0, 0]\n",
        "[0, 0, 1, 0, 1, 0, 1, 0, 1, 0, 1, 1, 1, 1, 1, 1, 1, 1, 0, 0, 0, 0, 1, 1, 0, 0, 1, 1]\n",
        "[0, 1, 0, 1, 0, 1, 0, 1, 0, 1, 1, 1, 1, 1, 1, 1, 1, 0, 0, 0, 0, 1, 1, 0, 0, 1, 1, 0]\n",
        "[0, 1, 0, 1, 0, 1, 0, 1, 1, 1, 1, 1, 1, 1, 1, 0, 0, 0, 0, 1, 1, 0, 0, 1, 1, 0, 0, 1]\n",
        "[0, 1, 0, 1, 0, 1, 1, 1, 1, 1, 1, 1, 1, 0, 0, 0, 0, 1, 1, 0, 0, 1, 1, 0, 0, 1, 0, 1]\n",
        "[0, 1, 0, 1, 1, 1, 1, 1, 1, 1, 1, 0, 0, 0, 0, 1, 1, 0, 0, 1, 1, 0, 0, 1, 0, 1, 0, 1]\n",
        "[0, 1, 1, 1, 1, 1, 1, 1, 1, 0, 0, 0, 0, 1, 1, 0, 0, 1, 1, 0, 0, 1, 0, 1, 0, 1, 0, 1]\n",
        "[1, 1, 1, 1, 1, 1, 1, 0, 0, 0, 0, 1, 1, 0, 0, 1, 1, 0, 0, 1, 0, 1, 0, 1, 0, 1, 0, 1]\n",
        "[1, 1, 1, 1, 1, 0, 0, 0, 0, 1, 1, 0, 0, 1, 1, 0, 0, 1, 0, 1, 0, 1, 0, 1, 0, 1, 1, 1]\n",
        "[1, 1, 1, 1, 0, 0, 0, 0, 1, 1, 0, 0, 1, 1, 0, 0, 1, 0, 1, 0, 1, 0, 1, 0, 1, 1, 1, 1]\n",
        "\n",
        "D array is\n",
        "[0, 1, 0, 1, 0, 1, 0, 1, 0, 1, 1, 0, 0, 1, 1, 0, 0, 1, 1, 1, 1, 0, 0, 0, 1, 1, 1, 1]\n",
        "[1, 0, 1, 0, 1, 0, 1, 0, 1, 1, 0, 0, 1, 1, 0, 0, 1, 1, 1, 1, 0, 0, 0, 1, 1, 1, 1, 0]\n",
        "[0, 1, 0, 1, 0, 1, 0, 1, 1, 0, 0, 1, 1, 0, 0, 1, 1, 1, 1, 0, 0, 0, 1, 1, 1, 1, 0, 1]\n",
        "[0, 1, 0, 1, 0, 1, 1, 0, 0, 1, 1, 0, 0, 1, 1, 1, 1, 0, 0, 0, 1, 1, 1, 1, 0, 1, 0, 1]\n",
        "[0, 1, 0, 1, 1, 0, 0, 1, 1, 0, 0, 1, 1, 1, 1, 0, 0, 0, 1, 1, 1, 1, 0, 1, 0, 1, 0, 1]\n",
        "[0, 1, 1, 0, 0, 1, 1, 0, 0, 1, 1, 1, 1, 0, 0, 0, 1, 1, 1, 1, 0, 1, 0, 1, 0, 1, 0, 1]\n",
        "[1, 0, 0, 1, 1, 0, 0, 1, 1, 1, 1, 0, 0, 0, 1, 1, 1, 1, 0, 1, 0, 1, 0, 1, 0, 1, 0, 1]\n",
        "[0, 1, 1, 0, 0, 1, 1, 1, 1, 0, 0, 0, 1, 1, 1, 1, 0, 1, 0, 1, 0, 1, 0, 1, 0, 1, 1, 0]\n",
        "[1, 0, 0, 1, 1, 1, 1, 0, 0, 0, 1, 1, 1, 1, 0, 1, 0, 1, 0, 1, 0, 1, 0, 1, 1, 0, 0, 1]\n",
        "[0, 0, 1, 1, 1, 1, 0, 0, 0, 1, 1, 1, 1, 0, 1, 0, 1, 0, 1, 0, 1, 0, 1, 1, 0, 0, 1, 1]\n",
        "[1, 1, 1, 1, 0, 0, 0, 1, 1, 1, 1, 0, 1, 0, 1, 0, 1, 0, 1, 0, 1, 1, 0, 0, 1, 1, 0, 0]\n",
        "[1, 1, 0, 0, 0, 1, 1, 1, 1, 0, 1, 0, 1, 0, 1, 0, 1, 0, 1, 1, 0, 0, 1, 1, 0, 0, 1, 1]\n",
        "[0, 0, 0, 1, 1, 1, 1, 0, 1, 0, 1, 0, 1, 0, 1, 0, 1, 1, 0, 0, 1, 1, 0, 0, 1, 1, 1, 1]\n",
        "[0, 1, 1, 1, 1, 0, 1, 0, 1, 0, 1, 0, 1, 0, 1, 1, 0, 0, 1, 1, 0, 0, 1, 1, 1, 1, 0, 0]\n",
        "[1, 1, 1, 0, 1, 0, 1, 0, 1, 0, 1, 0, 1, 1, 0, 0, 1, 1, 0, 0, 1, 1, 1, 1, 0, 0, 0, 1]\n",
        "[1, 0, 1, 0, 1, 0, 1, 0, 1, 0, 1, 1, 0, 0, 1, 1, 0, 0, 1, 1, 1, 1, 0, 0, 0, 1, 1, 1]\n",
        "[0, 1, 0, 1, 0, 1, 0, 1, 0, 1, 1, 0, 0, 1, 1, 0, 0, 1, 1, 1, 1, 0, 0, 0, 1, 1, 1, 1]\n"
       ]
      }
     ],
     "prompt_number": 306
    },
    {
     "cell_type": "code",
     "collapsed": false,
     "input": [
      "#Key Generation\n",
      "C0D0=[]\n",
      "for i in range(len(C)):\n",
      "    C0D0.append(C[i]+D[i])\n",
      "    \n",
      "for i in range(1,len(C0D0)):\n",
      "    print \"C\"+str(i)+\"D\"+str(i)+\"is\"\n",
      "    print C0D0[i]"
     ],
     "language": "python",
     "metadata": {},
     "outputs": [
      {
       "output_type": "stream",
       "stream": "stdout",
       "text": [
        "C1D1is\n",
        "[1, 1, 1, 0, 0, 0, 0, 1, 1, 0, 0, 1, 1, 0, 0, 1, 0, 1, 0, 1, 0, 1, 0, 1, 1, 1, 1, 1, 1, 0, 1, 0, 1, 0, 1, 0, 1, 1, 0, 0, 1, 1, 0, 0, 1, 1, 1, 1, 0, 0, 0, 1, 1, 1, 1, 0]\n",
        "C2D2is\n",
        "[1, 1, 0, 0, 0, 0, 1, 1, 0, 0, 1, 1, 0, 0, 1, 0, 1, 0, 1, 0, 1, 0, 1, 1, 1, 1, 1, 1, 0, 1, 0, 1, 0, 1, 0, 1, 1, 0, 0, 1, 1, 0, 0, 1, 1, 1, 1, 0, 0, 0, 1, 1, 1, 1, 0, 1]\n",
        "C3D3is\n",
        "[0, 0, 0, 0, 1, 1, 0, 0, 1, 1, 0, 0, 1, 0, 1, 0, 1, 0, 1, 0, 1, 1, 1, 1, 1, 1, 1, 1, 0, 1, 0, 1, 0, 1, 1, 0, 0, 1, 1, 0, 0, 1, 1, 1, 1, 0, 0, 0, 1, 1, 1, 1, 0, 1, 0, 1]\n",
        "C4D4is\n",
        "[0, 0, 1, 1, 0, 0, 1, 1, 0, 0, 1, 0, 1, 0, 1, 0, 1, 0, 1, 1, 1, 1, 1, 1, 1, 1, 0, 0, 0, 1, 0, 1, 1, 0, 0, 1, 1, 0, 0, 1, 1, 1, 1, 0, 0, 0, 1, 1, 1, 1, 0, 1, 0, 1, 0, 1]\n",
        "C5D5is\n",
        "[1, 1, 0, 0, 1, 1, 0, 0, 1, 0, 1, 0, 1, 0, 1, 0, 1, 1, 1, 1, 1, 1, 1, 1, 0, 0, 0, 0, 0, 1, 1, 0, 0, 1, 1, 0, 0, 1, 1, 1, 1, 0, 0, 0, 1, 1, 1, 1, 0, 1, 0, 1, 0, 1, 0, 1]\n",
        "C6D6is\n",
        "[0, 0, 1, 1, 0, 0, 1, 0, 1, 0, 1, 0, 1, 0, 1, 1, 1, 1, 1, 1, 1, 1, 0, 0, 0, 0, 1, 1, 1, 0, 0, 1, 1, 0, 0, 1, 1, 1, 1, 0, 0, 0, 1, 1, 1, 1, 0, 1, 0, 1, 0, 1, 0, 1, 0, 1]\n",
        "C7D7is\n",
        "[1, 1, 0, 0, 1, 0, 1, 0, 1, 0, 1, 0, 1, 1, 1, 1, 1, 1, 1, 1, 0, 0, 0, 0, 1, 1, 0, 0, 0, 1, 1, 0, 0, 1, 1, 1, 1, 0, 0, 0, 1, 1, 1, 1, 0, 1, 0, 1, 0, 1, 0, 1, 0, 1, 1, 0]\n",
        "C8D8is\n",
        "[0, 0, 1, 0, 1, 0, 1, 0, 1, 0, 1, 1, 1, 1, 1, 1, 1, 1, 0, 0, 0, 0, 1, 1, 0, 0, 1, 1, 1, 0, 0, 1, 1, 1, 1, 0, 0, 0, 1, 1, 1, 1, 0, 1, 0, 1, 0, 1, 0, 1, 0, 1, 1, 0, 0, 1]\n",
        "C9D9is\n",
        "[0, 1, 0, 1, 0, 1, 0, 1, 0, 1, 1, 1, 1, 1, 1, 1, 1, 0, 0, 0, 0, 1, 1, 0, 0, 1, 1, 0, 0, 0, 1, 1, 1, 1, 0, 0, 0, 1, 1, 1, 1, 0, 1, 0, 1, 0, 1, 0, 1, 0, 1, 1, 0, 0, 1, 1]\n",
        "C10D10is\n",
        "[0, 1, 0, 1, 0, 1, 0, 1, 1, 1, 1, 1, 1, 1, 1, 0, 0, 0, 0, 1, 1, 0, 0, 1, 1, 0, 0, 1, 1, 1, 1, 1, 0, 0, 0, 1, 1, 1, 1, 0, 1, 0, 1, 0, 1, 0, 1, 0, 1, 1, 0, 0, 1, 1, 0, 0]\n",
        "C11D11is\n",
        "[0, 1, 0, 1, 0, 1, 1, 1, 1, 1, 1, 1, 1, 0, 0, 0, 0, 1, 1, 0, 0, 1, 1, 0, 0, 1, 0, 1, 1, 1, 0, 0, 0, 1, 1, 1, 1, 0, 1, 0, 1, 0, 1, 0, 1, 0, 1, 1, 0, 0, 1, 1, 0, 0, 1, 1]\n",
        "C12D12is\n",
        "[0, 1, 0, 1, 1, 1, 1, 1, 1, 1, 1, 0, 0, 0, 0, 1, 1, 0, 0, 1, 1, 0, 0, 1, 0, 1, 0, 1, 0, 0, 0, 1, 1, 1, 1, 0, 1, 0, 1, 0, 1, 0, 1, 0, 1, 1, 0, 0, 1, 1, 0, 0, 1, 1, 1, 1]\n",
        "C13D13is\n",
        "[0, 1, 1, 1, 1, 1, 1, 1, 1, 0, 0, 0, 0, 1, 1, 0, 0, 1, 1, 0, 0, 1, 0, 1, 0, 1, 0, 1, 0, 1, 1, 1, 1, 0, 1, 0, 1, 0, 1, 0, 1, 0, 1, 1, 0, 0, 1, 1, 0, 0, 1, 1, 1, 1, 0, 0]\n",
        "C14D14is\n",
        "[1, 1, 1, 1, 1, 1, 1, 0, 0, 0, 0, 1, 1, 0, 0, 1, 1, 0, 0, 1, 0, 1, 0, 1, 0, 1, 0, 1, 1, 1, 1, 0, 1, 0, 1, 0, 1, 0, 1, 0, 1, 1, 0, 0, 1, 1, 0, 0, 1, 1, 1, 1, 0, 0, 0, 1]\n",
        "C15D15is\n",
        "[1, 1, 1, 1, 1, 0, 0, 0, 0, 1, 1, 0, 0, 1, 1, 0, 0, 1, 0, 1, 0, 1, 0, 1, 0, 1, 1, 1, 1, 0, 1, 0, 1, 0, 1, 0, 1, 0, 1, 1, 0, 0, 1, 1, 0, 0, 1, 1, 1, 1, 0, 0, 0, 1, 1, 1]\n",
        "C16D16is\n",
        "[1, 1, 1, 1, 0, 0, 0, 0, 1, 1, 0, 0, 1, 1, 0, 0, 1, 0, 1, 0, 1, 0, 1, 0, 1, 1, 1, 1, 0, 1, 0, 1, 0, 1, 0, 1, 0, 1, 1, 0, 0, 1, 1, 0, 0, 1, 1, 1, 1, 0, 0, 0, 1, 1, 1, 1]\n"
       ]
      }
     ],
     "prompt_number": 307
    },
    {
     "cell_type": "code",
     "collapsed": false,
     "input": [
      "#Converting 56 bits C0D0 to 48 by using PC_2\n",
      "\n",
      "PC_2=[14,17,11,24,1,5,3,28,15,6,21,10,23,19,12,4,26,8,16,7,27,20,13,2,41,52,31,37,47,55,30,40,51,45,33,48,44,49,39,56,34,53,46,42,50,36,29,32]\n",
      "\n",
      "def key_generator(j):\n",
      "    K1=[]\n",
      "    for i in range(len(PC_2)):\n",
      "        K1.append(C0D0[j][PC_2[i]-1])\n",
      "    return K1    \n",
      "\n",
      "Kn=[]\n",
      "for j in range(1,17):\n",
      "    Kn.append(key_generator(j))\n",
      "    \n",
      "for i in range(len(Kn)):\n",
      "    print \"K\"+str(i+1)+\"is\"\n",
      "    print Kn[i]"
     ],
     "language": "python",
     "metadata": {},
     "outputs": [
      {
       "output_type": "stream",
       "stream": "stdout",
       "text": [
        "K1is\n",
        "[0, 0, 0, 1, 1, 0, 1, 1, 0, 0, 0, 0, 0, 0, 1, 0, 1, 1, 1, 0, 1, 1, 1, 1, 1, 1, 1, 1, 1, 1, 0, 0, 0, 1, 1, 1, 0, 0, 0, 0, 0, 1, 1, 1, 0, 0, 1, 0]\n",
        "K2is\n",
        "[0, 1, 1, 1, 1, 0, 0, 1, 1, 0, 1, 0, 1, 1, 1, 0, 1, 1, 0, 1, 1, 0, 0, 1, 1, 1, 0, 1, 1, 0, 1, 1, 1, 1, 0, 0, 1, 0, 0, 1, 1, 1, 1, 0, 0, 1, 0, 1]\n",
        "K3is\n",
        "[0, 1, 0, 1, 0, 1, 0, 1, 1, 1, 1, 1, 1, 1, 0, 0, 1, 0, 0, 0, 1, 0, 1, 0, 0, 1, 0, 0, 0, 0, 1, 0, 1, 1, 0, 0, 1, 1, 1, 1, 1, 0, 0, 1, 1, 0, 0, 1]\n",
        "K4is\n",
        "[0, 1, 1, 1, 0, 0, 1, 0, 1, 0, 1, 0, 1, 1, 0, 1, 1, 1, 0, 1, 0, 1, 1, 0, 1, 1, 0, 1, 1, 0, 1, 1, 0, 0, 1, 1, 0, 1, 0, 1, 0, 0, 0, 1, 1, 1, 0, 1]\n",
        "K5is\n",
        "[0, 1, 1, 1, 1, 1, 0, 0, 1, 1, 1, 0, 1, 1, 0, 0, 0, 0, 0, 0, 0, 1, 1, 1, 1, 1, 1, 0, 1, 0, 1, 1, 0, 1, 0, 1, 0, 0, 1, 1, 1, 0, 1, 0, 1, 0, 0, 0]\n",
        "K6is\n",
        "[0, 1, 1, 0, 0, 0, 1, 1, 1, 0, 1, 0, 0, 1, 0, 1, 0, 0, 1, 1, 1, 1, 1, 0, 0, 1, 0, 1, 0, 0, 0, 0, 0, 1, 1, 1, 1, 0, 1, 1, 0, 0, 1, 0, 1, 1, 1, 1]\n",
        "K7is\n",
        "[1, 1, 1, 0, 1, 1, 0, 0, 1, 0, 0, 0, 0, 1, 0, 0, 1, 0, 1, 1, 0, 1, 1, 1, 1, 1, 1, 1, 0, 1, 1, 0, 0, 0, 0, 1, 1, 0, 0, 0, 1, 0, 1, 1, 1, 1, 0, 0]\n",
        "K8is\n",
        "[1, 1, 1, 1, 0, 1, 1, 1, 1, 0, 0, 0, 1, 0, 1, 0, 0, 0, 1, 1, 1, 0, 1, 0, 1, 1, 0, 0, 0, 0, 0, 1, 0, 0, 1, 1, 1, 0, 1, 1, 1, 1, 1, 1, 1, 0, 1, 1]\n",
        "K9is\n",
        "[1, 1, 1, 0, 0, 0, 0, 0, 1, 1, 0, 1, 1, 0, 1, 1, 1, 1, 1, 0, 1, 0, 1, 1, 1, 1, 1, 0, 1, 1, 0, 1, 1, 1, 1, 0, 0, 1, 1, 1, 1, 0, 0, 0, 0, 0, 0, 1]\n",
        "K10is\n",
        "[1, 0, 1, 1, 0, 0, 0, 1, 1, 1, 1, 1, 0, 0, 1, 1, 0, 1, 0, 0, 0, 1, 1, 1, 1, 0, 1, 1, 1, 0, 1, 0, 0, 1, 0, 0, 0, 1, 1, 0, 0, 1, 0, 0, 1, 1, 1, 1]\n",
        "K11is\n",
        "[0, 0, 1, 0, 0, 0, 0, 1, 0, 1, 0, 1, 1, 1, 1, 1, 1, 1, 0, 1, 0, 0, 1, 1, 1, 1, 0, 1, 1, 1, 1, 0, 1, 1, 0, 1, 0, 0, 1, 1, 1, 0, 0, 0, 0, 1, 1, 0]\n",
        "K12is\n",
        "[0, 1, 1, 1, 0, 1, 0, 1, 0, 1, 1, 1, 0, 0, 0, 1, 1, 1, 1, 1, 0, 1, 0, 1, 1, 0, 0, 1, 0, 1, 0, 0, 0, 1, 1, 0, 0, 1, 1, 1, 1, 1, 1, 0, 1, 0, 0, 1]\n",
        "K13is\n",
        "[1, 0, 0, 1, 0, 1, 1, 1, 1, 1, 0, 0, 0, 1, 0, 1, 1, 1, 0, 1, 0, 0, 0, 1, 1, 1, 1, 1, 1, 0, 1, 0, 1, 0, 1, 1, 1, 0, 1, 0, 0, 1, 0, 0, 0, 0, 0, 1]\n",
        "K14is\n",
        "[0, 1, 0, 1, 1, 1, 1, 1, 0, 1, 0, 0, 0, 0, 1, 1, 1, 0, 1, 1, 0, 1, 1, 1, 1, 1, 1, 1, 0, 0, 1, 0, 1, 1, 1, 0, 0, 1, 1, 1, 0, 0, 1, 1, 1, 0, 1, 0]\n",
        "K15is\n",
        "[1, 0, 1, 1, 1, 1, 1, 1, 1, 0, 0, 1, 0, 0, 0, 1, 1, 0, 0, 0, 1, 1, 0, 1, 0, 0, 1, 1, 1, 1, 0, 1, 0, 0, 1, 1, 1, 1, 1, 1, 0, 0, 0, 0, 1, 0, 1, 0]\n",
        "K16is\n",
        "[1, 1, 0, 0, 1, 0, 1, 1, 0, 0, 1, 1, 1, 1, 0, 1, 1, 0, 0, 0, 1, 0, 1, 1, 0, 0, 0, 0, 1, 1, 1, 0, 0, 0, 0, 1, 0, 1, 1, 1, 1, 1, 1, 1, 0, 1, 0, 1]\n"
       ]
      }
     ],
     "prompt_number": 308
    },
    {
     "cell_type": "heading",
     "level": 1,
     "metadata": {},
     "source": [
      "Step 2:Encode each 64-bit block of data"
     ]
    },
    {
     "cell_type": "code",
     "collapsed": false,
     "input": [
      "IP=[int(x) for x in \"58    50   42    34    26   18    10    2 60    52   44    36    28   20    12    4 62    54   46    38    30   22    14    6  64    56   48    40    32   24    16    8 57    49   41    33    25   17     9    1    59    51   43    35    27   19    11    3    61    53   45    37    29   21    13    5 63    55   47    39    31   23    15    7\".split()]\n",
      "\n",
      "print \"initial permutation is\",IP"
     ],
     "language": "python",
     "metadata": {},
     "outputs": [
      {
       "output_type": "stream",
       "stream": "stdout",
       "text": [
        "initial permutation is [58, 50, 42, 34, 26, 18, 10, 2, 60, 52, 44, 36, 28, 20, 12, 4, 62, 54, 46, 38, 30, 22, 14, 6, 64, 56, 48, 40, 32, 24, 16, 8, 57, 49, 41, 33, 25, 17, 9, 1, 59, 51, 43, 35, 27, 19, 11, 3, 61, 53, 45, 37, 29, 21, 13, 5, 63, 55, 47, 39, 31, 23, 15, 7]\n"
       ]
      }
     ],
     "prompt_number": 309
    },
    {
     "cell_type": "code",
     "collapsed": false,
     "input": [
      "print \"message is\",message"
     ],
     "language": "python",
     "metadata": {},
     "outputs": [
      {
       "output_type": "stream",
       "stream": "stdout",
       "text": [
        "message is [0, 0, 0, 0, 0, 0, 0, 1, 0, 0, 1, 0, 0, 0, 1, 1, 0, 1, 0, 0, 0, 1, 0, 1, 0, 1, 1, 0, 0, 1, 1, 1, 1, 0, 0, 0, 1, 0, 0, 1, 1, 0, 1, 0, 1, 0, 1, 1, 1, 1, 0, 0, 1, 1, 0, 1, 1, 1, 1, 0, 1, 1, 1, 1, 1, 1, 1, 1]\n"
       ]
      }
     ],
     "prompt_number": 310
    },
    {
     "cell_type": "code",
     "collapsed": false,
     "input": [
      "#Initial permutaiton on Message using IP_array\n",
      "IP_array=[]\n",
      "for i in range(len(IP)):\n",
      "    IP_array.append(message[IP[i]-1])\n",
      "    \n",
      "print IP_array\n",
      "    "
     ],
     "language": "python",
     "metadata": {},
     "outputs": [
      {
       "output_type": "stream",
       "stream": "stdout",
       "text": [
        "[1, 1, 0, 0, 1, 1, 0, 0, 0, 0, 0, 0, 0, 0, 0, 0, 1, 1, 0, 0, 1, 1, 0, 0, 1, 1, 1, 1, 1, 1, 1, 1, 1, 1, 1, 1, 0, 0, 0, 0, 1, 0, 1, 0, 1, 0, 1, 0, 1, 1, 1, 1, 0, 0, 0, 0, 1, 0, 1, 0, 1, 0, 1, 0]\n"
       ]
      }
     ],
     "prompt_number": 311
    },
    {
     "cell_type": "code",
     "collapsed": false,
     "input": [
      "L0=IP_array[:32]\n",
      "R0=IP_array[32:]\n",
      "\n",
      "print \"\\nL0 is\\n\",L0\n",
      "print \"\\nR0 is\\n\",R0"
     ],
     "language": "python",
     "metadata": {},
     "outputs": [
      {
       "output_type": "stream",
       "stream": "stdout",
       "text": [
        "\n",
        "L0 is\n",
        "[1, 1, 0, 0, 1, 1, 0, 0, 0, 0, 0, 0, 0, 0, 0, 0, 1, 1, 0, 0, 1, 1, 0, 0, 1, 1, 1, 1, 1, 1, 1, 1]\n",
        "\n",
        "R0 is\n",
        "[1, 1, 1, 1, 0, 0, 0, 0, 1, 0, 1, 0, 1, 0, 1, 0, 1, 1, 1, 1, 0, 0, 0, 0, 1, 0, 1, 0, 1, 0, 1, 0]\n"
       ]
      }
     ],
     "prompt_number": 312
    },
    {
     "cell_type": "markdown",
     "metadata": {},
     "source": [
      "<h1>Generating Cipher Text</h1>\n",
      "$L_n=R_{n-1}$\n",
      "\n",
      "$R_n=L_{n-1} + f(R_{n-1},K_{n})$\n",
      "\n",
      "\"+\" DENOTES xor OPERATION\n"
     ]
    },
    {
     "cell_type": "code",
     "collapsed": false,
     "input": [
      "#for i in range(1,17):\n",
      "    "
     ],
     "language": "python",
     "metadata": {},
     "outputs": [],
     "prompt_number": 313
    },
    {
     "cell_type": "code",
     "collapsed": false,
     "input": [
      "#shifts array to left by n positions without considering overflow\n",
      "def left_shift(a,n):\n",
      "    if n==1:\n",
      "        b=a[n:]+a[:1]\n",
      "    elif n==2:\n",
      "        b=a[2:]+a[:2]\n",
      "    return b\n",
      "\n",
      "print(left_shift([0,1,0,1,0,1,0,0],2))"
     ],
     "language": "python",
     "metadata": {},
     "outputs": [
      {
       "output_type": "stream",
       "stream": "stdout",
       "text": [
        "[0, 1, 0, 1, 0, 0, 0, 1]\n"
       ]
      }
     ],
     "prompt_number": 314
    },
    {
     "cell_type": "markdown",
     "metadata": {},
     "source": [
      "Input: \n",
      "   CC: 64 bits of cipher text\n",
      "   k16, k15, ..., k1: 16 round keys\n",
      "   IP: Initial permutation\n",
      "   FP: Final permutation\n",
      "   f(): Round function\n",
      "   \n",
      "Output: \n",
      "   TT: 64 bits of clear text\n",
      "\n",
      "Algorithm:\n",
      "   CC' = IP(CC), applying initial permutation\n",
      "   (LL0, RR0) = CC', dividing CC' into two 32-bit parts\n",
      "   (LL1, RR1) = (RR0, LL0 ^ f(RR0, k16))\n",
      "   (LL2, RR2) = (RR1, LL1 ^ f(RR1, k15))\n",
      "   ......\n",
      "   TT' = (RR16, LL16), swapping the two parts\n",
      "   TT = FP(TT'), applying final permutation"
     ]
    },
    {
     "cell_type": "code",
     "collapsed": false,
     "input": [],
     "language": "python",
     "metadata": {},
     "outputs": [],
     "prompt_number": 314
    },
    {
     "cell_type": "code",
     "collapsed": false,
     "input": [
      "def xOr(a,b):\n",
      "    arrr=[]\n",
      "    for i in range(len(a)):\n",
      "        arrr+=[int(a[i])^int(b[i])]\n",
      "    return arrr\n",
      "\n",
      "print(xOr(C0,D0))        "
     ],
     "language": "python",
     "metadata": {},
     "outputs": [
      {
       "output_type": "stream",
       "stream": "stdout",
       "text": [
        "[1, 0, 1, 0, 0, 1, 0, 1, 1, 0, 1, 0, 1, 0, 1, 0, 1, 1, 0, 1, 0, 0, 1, 0, 0, 0, 0, 0]\n"
       ]
      }
     ],
     "prompt_number": 315
    },
    {
     "cell_type": "heading",
     "level": 1,
     "metadata": {},
     "source": [
      "S-Boxes"
     ]
    },
    {
     "cell_type": "code",
     "collapsed": false,
     "input": [],
     "language": "python",
     "metadata": {},
     "outputs": [],
     "prompt_number": 315
    },
    {
     "cell_type": "code",
     "collapsed": false,
     "input": [],
     "language": "python",
     "metadata": {},
     "outputs": [],
     "prompt_number": 315
    },
    {
     "cell_type": "code",
     "collapsed": false,
     "input": [],
     "language": "python",
     "metadata": {},
     "outputs": [],
     "prompt_number": 315
    },
    {
     "cell_type": "code",
     "collapsed": false,
     "input": [
      "E_bit=[int(x) for x in \"32     1    2     3     4    5      4     5    6     7     8    9  8     9   10    11    12   13  12    13   14    15    16   17  16    17   18    19    20   21     20    21   22    23    24   25     24    25   26    27    28   29     28    29   30    31    32  1\".split()]\n",
      "print(E_bit)\n",
      "len(E_bit)\n",
      "\n",
      "R0=[1, 1, 1, 1, 0, 0, 0, 0, 1, 0, 1, 0, 1, 0, 1, 0, 1, 1, 1, 1, 0, 0, 0, 0, 1, 0, 1, 0, 1, 0, 1, 0]\n",
      "#len(R0)\n",
      "\n",
      "temp=[]\n",
      "for i in range(len(E_bit)):\n",
      "    temp.append(R0[E_bit[i]-1])\n",
      "print temp\n",
      "\n",
      "len(temp)\n",
      "\n",
      "\n",
      "def xOr(a,b):\n",
      "    arrr=[]\n",
      "    for i in range(len(a)):\n",
      "        arrr+=[int(a[i])^int(b[i])]\n",
      "    return arrr\n",
      "\n",
      "abc=xOr([0, 0, 0, 1, 1, 0, 1, 1, 0, 0, 0, 0, 0, 0, 1, 0, 1, 1, 1, 0, 1, 1, 1, 1, 1, 1, 1, 1, 1, 1, 0, 0, 0, 1, 1, 1, 0, 0, 0, 0, 0, 1, 1, 1, 0, 0, 1, 0],temp)\n",
      "    \n",
      "print abc\n",
      "    \n",
      "bc=[abc[i:i + 6] for i in range(0, len(abc), 6)]\n",
      "print bc\n",
      "\n",
      "   \n",
      "    \n",
      "\n",
      "\n",
      "def convert_to_bits(n,padding):\n",
      "    result=[]\n",
      "    while n>0:\n",
      "        if n%2==0:\n",
      "            result=[0]+result\n",
      "        else:\n",
      "            result=[1]+result\n",
      "        n=int(n/2)\n",
      "    while len(result)<padding:\n",
      "        result=[0]+result\n",
      "    return result"
     ],
     "language": "python",
     "metadata": {},
     "outputs": [
      {
       "output_type": "stream",
       "stream": "stdout",
       "text": [
        "[32, 1, 2, 3, 4, 5, 4, 5, 6, 7, 8, 9, 8, 9, 10, 11, 12, 13, 12, 13, 14, 15, 16, 17, 16, 17, 18, 19, 20, 21, 20, 21, 22, 23, 24, 25, 24, 25, 26, 27, 28, 29, 28, 29, 30, 31, 32, 1]\n",
        "[0, 1, 1, 1, 1, 0, 1, 0, 0, 0, 0, 1, 0, 1, 0, 1, 0, 1, 0, 1, 0, 1, 0, 1, 0, 1, 1, 1, 1, 0, 1, 0, 0, 0, 0, 1, 0, 1, 0, 1, 0, 1, 0, 1, 0, 1, 0, 1]\n",
        "[0, 1, 1, 0, 0, 0, 0, 1, 0, 0, 0, 1, 0, 1, 1, 1, 1, 0, 1, 1, 1, 0, 1, 0, 1, 0, 0, 0, 0, 1, 1, 0, 0, 1, 1, 0, 0, 1, 0, 1, 0, 0, 1, 0, 0, 1, 1, 1]\n",
        "[[0, 1, 1, 0, 0, 0], [0, 1, 0, 0, 0, 1], [0, 1, 1, 1, 1, 0], [1, 1, 1, 0, 1, 0], [1, 0, 0, 0, 0, 1], [1, 0, 0, 1, 1, 0], [0, 1, 0, 1, 0, 0], [1, 0, 0, 1, 1, 1]]\n"
       ]
      }
     ],
     "prompt_number": 316
    },
    {
     "cell_type": "markdown",
     "metadata": {},
     "source": [
      " We have not yet finished calculating the function $f$ . To this point we have expanded $R_{n-1}$ from $32$ bits to $48$ bits, using the selection table, and XORed the result with the key $K_n$ . We now have $48$ bits, or eight groups of six bits. We now do something strange with each group of six bits: we use them as addresses in tables called <strong>\"S boxes\"</strong>. Each group of six bits will give us an address in a different $S$ box. Located at that address will be a $4$ bit number. This $4$ bit number will replace the original $6$ bits. The net result is that the eight groups of $6$ bits are transformed into eight groups of $4$ bits (the $4$-bit outputs from the $S$ boxes) for $32$ bits total.\n",
      " \n",
      " $K_n + E(R_{n-1}) =B_1B_2B_3B_4B_5B_6B_7B_8$\n",
      " \n",
      " where  each $B_i$ is a group of six bits. We now calculate\n",
      "\n",
      "$S_1(B_1)S_2(B_2)S_3(B_3)S_4(B_4)S_5(B_5)S_6(B_6)S_7(B_7)S_8(B_8)$\n",
      "\n"
     ]
    },
    {
     "cell_type": "code",
     "collapsed": false,
     "input": [],
     "language": "python",
     "metadata": {},
     "outputs": [],
     "prompt_number": 316
    },
    {
     "cell_type": "code",
     "collapsed": false,
     "input": [
      "S1=[\n",
      "    [14,4,13,1,2,15,11,8,3,10,6,12,5,9,0,7],\n",
      "    [0,15,7,4,14,2,13,1,10,6,12,11,9,5,3,8],\n",
      "    [4,1,14,8,13,6,2,11,15,12,9,7,3,10,5,0],\n",
      "    [15,12,8,2,4,9,1,7,5,11,3,14,10,0,6,13]\n",
      "]\n",
      "\n",
      "\n",
      "S2=[\n",
      "    [15,1,8,14,6,11,3,4,9,7,2,13,12,0,5,10],\n",
      "    [3,13,4,7,15,2,8,14,12,0,1,10,6,9,11,5],\n",
      "    [0,14,7,11,10,4,13,1,5,8,12,6,9,3,2,15],\n",
      "    [13,8,10,1,3,15,4,2,11,6,7,12,0,5,14,9]\n",
      "]\n",
      "\n",
      "S3=[int(x) for x in \"10  0   9 14   6  3  15  5   1 13  12  7  11  4   2  8 13  7   0  9   3  4   6 10   2  8   5 14  12 11  15  1  13  6   4  9   8 15   3  0  11  1   2 12   5 10  14  7   1 10  13  0   6  9   8  7   4 15  14  3  11  5   2 12\".split()]\n",
      "S3=[S3[i:i+16] for i in range(0,len(S3),16)]\n",
      "\n",
      "\n",
      "S3=[\n",
      "    [10, 0, 9, 14, 6, 3, 15, 5, 1, 13, 12, 7, 11, 4, 2, 8],\n",
      "    [13, 7, 0, 9, 3, 4, 6, 10, 2, 8, 5, 14, 12, 11, 15, 1], \n",
      "    [13, 6, 4, 9, 8, 15, 3, 0, 11, 1, 2, 12, 5, 10, 14, 7], \n",
      "    [1, 10, 13, 0, 6, 9, 8, 7, 4, 15, 14, 3, 11, 5, 2, 12]\n",
      "]\n",
      "\n",
      "S4=[int(x) for x in \" 7 13  14  3   0  6   9 10   1  2   8  5  11 12   4 15  13  8  11  5   6 15   0  3   4  7   2 12   1 10  14  9   10  6   9  0  12 11   7 13  15  1   3 14   5  2   8  4    3 15   0  6  10  1  13  8   9  4   5 11  12  7   2 14\".split()]\n",
      "S4=[S4[i:i+16] for i in range(0,len(S4),16)]\n",
      "\n",
      "S4=[\n",
      "    [7, 13, 14, 3, 0, 6, 9, 10, 1, 2, 8, 5, 11, 12, 4, 15], \n",
      "    [13, 8, 11, 5, 6, 15, 0, 3, 4, 7, 2, 12, 1, 10, 14, 9], \n",
      "    [10, 6, 9, 0, 12, 11, 7, 13, 15, 1, 3, 14, 5, 2, 8, 4], \n",
      "    [3, 15, 0, 6, 10, 1, 13, 8, 9, 4, 5, 11, 12, 7, 2, 14]\n",
      "]\n",
      "\n",
      "S5=[int(x) for x in \"2 12   4  1   7 10  11  6   8  5   3 15  13  0  14  9 14 11   2 12   4  7  13  1   5  0  15 10   3  9   8  6   4  2   1 11  10 13   7  8  15  9  12  5   6  3   0 14     11  8  12  7   1 14   2 13   6 15   0  9  10  4   5  3\".split()]\n",
      "S5=[S5[i:i+16] for i in range(0,len(S5),16)]\n",
      "\n",
      "S5=[\n",
      "    [2, 12, 4, 1, 7, 10, 11, 6, 8, 5, 3, 15, 13, 0, 14, 9], \n",
      "    [14, 11, 2, 12, 4, 7, 13, 1, 5, 0, 15, 10, 3, 9, 8, 6], \n",
      "    [4, 2, 1, 11, 10, 13, 7, 8, 15, 9, 12, 5, 6, 3, 0, 14], \n",
      "    [11, 8, 12, 7, 1, 14, 2, 13, 6, 15, 0, 9, 10, 4, 5, 3]\n",
      "]\n",
      "\n",
      "S6=[int(x) for x in \"12  1  10 15   9  2   6  8   0 13   3  4  14  7   5 11  10 15   4  2   7 12   9  5   6  1  13 14   0 11   3  8    9 14  15  5   2  8  12  3   7  0   4 10   1 13  11  6    4  3   2 12   9  5  15 10  11 14   1  7   6  0   8 13\".split()]\n",
      "S6=[S6[i:i+16] for i in range(0,len(S6),16)]\n",
      "\n",
      "S6=[\n",
      "    [12, 1, 10, 15, 9, 2, 6, 8, 0, 13, 3, 4, 14, 7, 5, 11], \n",
      "    [10, 15, 4, 2, 7, 12, 9, 5, 6, 1, 13, 14, 0, 11, 3, 8], \n",
      "    [9, 14, 15, 5, 2, 8, 12, 3, 7, 0, 4, 10, 1, 13, 11, 6], \n",
      "    [4, 3, 2, 12, 9, 5, 15, 10, 11, 14, 1, 7, 6, 0, 8, 13]\n",
      "]\n",
      "\n",
      "\n",
      "S7=[int(x) for x in \" 4 11   2 14  15  0   8 13   3 12   9  7   5 10   6  1   13  0  11  7   4  9   1 10  14  3   5 12   2 15   8  6 1  4  11 13  12  3   7 14  10 15   6  8   0  5   9  2    6 11  13  8   1  4  10  7   9  5   0 15  14  2   3 12\".split()]\n",
      "S7=[S7[i:i+16] for i in range(0,len(S7),16)]\n",
      "\n",
      "S7=[\n",
      "    [4, 11, 2, 14, 15, 0, 8, 13, 3, 12, 9, 7, 5, 10, 6, 1], \n",
      "    [13, 0, 11, 7, 4, 9, 1, 10, 14, 3, 5, 12, 2, 15, 8, 6], \n",
      "    [1, 4, 11, 13, 12, 3, 7, 14, 10, 15, 6, 8, 0, 5, 9, 2], \n",
      "    [6, 11, 13, 8, 1, 4, 10, 7, 9, 5, 0, 15, 14, 2, 3, 12]\n",
      "]\n",
      "\n",
      "\n",
      "\n",
      "\n",
      "S8=[int(x) for x in \"13  2   8  4   6 15  11  1  10  9   3 14   5  0  12  7  1 15  13  8  10  3   7  4  12  5   6 11   0 14   9  2  7 11   4  1   9 12  14  2   0  6  10 13  15  3   5  8  2  1  14  7   4 10   8 13  15 12   9  0   3  5   6 11\".split()]\n",
      "S8=[S8[i:i+16] for i in range(0,len(S8),16)]\n",
      "\n",
      "S8=[\n",
      "    [13, 2, 8, 4, 6, 15, 11, 1, 10, 9, 3, 14, 5, 0, 12, 7], \n",
      "    [1, 15, 13, 8, 10, 3, 7, 4, 12, 5, 6, 11, 0, 14, 9, 2], \n",
      "    [7, 11, 4, 1, 9, 12, 14, 2, 0, 6, 10, 13, 15, 3, 5, 8], \n",
      "    [2, 1, 14, 7, 4, 10, 8, 13, 15, 12, 9, 0, 3, 5, 6, 11]\n",
      "]\n",
      "\n",
      "\n",
      "\n",
      "\n",
      "\n",
      "\n",
      "def S_B(a,S_arr):\n",
      "    row=calculate_binary([a[0],a[5]],2)\n",
      "    column=calculate_binary(a[1:5],4)\n",
      "    result=convert_to_bits(S_arr[row][column],4)\n",
      "    return result\n",
      "    \n",
      "def calculate_binary(arra,n):\n",
      "    if n==2:\n",
      "        return 2*arra[0]+1*arra[1]\n",
      "    elif n==4:\n",
      "        return 2**3*arra[0]+2**2*arra[1]+2*arra[2]+arra[3]\n",
      "\n",
      "\n",
      "#SS=[S1,S2,S3,S4,S5,S6,S7,S8]\n",
      "\n",
      "#SSS=[]\n",
      "#for i in range(8):\n",
      " #    SSS+=S_B(bc[i],SS[i])\n",
      "        \n",
      "#print \"SSS is\",SSS\n",
      "\n",
      "#print \"Length of SSS\",len(SSS)\n",
      "\n",
      "\n",
      "#P=[int(x) for x in \"16   7  20  21 29  12  28  17 1  15  23  26   5  18  31  10   2   8  24  14  32  27   3   9  19  13  30   6  22  11   4  25\".split()]\n",
      "\n",
      "\n",
      "\n",
      "#print P,len(P)\n",
      "\n",
      "#f_R_K=[]\n",
      "#for i in range(len(P)):\n",
      "#    f_R_K.append(SSS[P[i]-1])\n",
      "    \n",
      "#print \"\\nF(R,K) is\\n\",f_R_K\n",
      "\n",
      "IP_1=[int(x) for x in \" 40     8   48    16    56   24    64   32      39     7   47    15    55   23    63   31   38     6   46    14    54   22    62   30         37     5   45    13    53   21    61   29       36     4   44    12    52   20    60   28   35     3   43    11    51   19    59   27  34     2   42    10    50   18    58   26  33     1   41     9    49   17    57   25\".split()]\n",
      "\n",
      "\n",
      "IP_1=[IP_1[i:i+8] for i in range(0,len(IP_1),8)]\n",
      "\n",
      "print IP_1\n",
      "\n",
      "R_array=[]\n",
      "L0=[1, 1, 0, 0, 1, 1, 0, 0, 0, 0, 0, 0, 0, 0, 0, 0, 1, 1, 0, 0, 1, 1, 0, 0, 1, 1, 1, 1, 1, 1, 1, 1]\n",
      "R_array.append(R0)\n",
      "R_array.append(xOr(L0,f_R_K))\n",
      "\n",
      "print R_array[1]\n",
      "\n"
     ],
     "language": "python",
     "metadata": {},
     "outputs": [
      {
       "output_type": "stream",
       "stream": "stdout",
       "text": [
        "[[40, 8, 48, 16, 56, 24, 64, 32], [39, 7, 47, 15, 55, 23, 63, 31], [38, 6, 46, 14, 54, 22, 62, 30], [37, 5, 45, 13, 53, 21, 61, 29], [36, 4, 44, 12, 52, 20, 60, 28], [35, 3, 43, 11, 51, 19, 59, 27], [34, 2, 42, 10, 50, 18, 58, 26], [33, 1, 41, 9, 49, 17, 57, 25]]\n",
        "[1, 1, 1, 0, 1, 1, 1, 1, 0, 1, 0, 0, 1, 0, 1, 0, 0, 1, 1, 0, 0, 1, 0, 1, 0, 1, 0, 0, 0, 1, 0, 0]\n"
       ]
      }
     ],
     "prompt_number": 317
    },
    {
     "cell_type": "code",
     "collapsed": false,
     "input": [
      "def f_function(R,K):\n",
      "    P=[int(x) for x in \"16   7  20  21 29  12  28  17 1  15  23  26   5  18  31  10   2   8  24  14  32  27   3   9  19  13  30   6  22  11   4  25\".split()]\n",
      "    print \"\\nP is\\n\",P,len(P)\n",
      "    \n",
      "    E_bit=[int(x) for x in \"32     1    2     3     4    5      4     5    6     7     8    9  8     9   10    11    12   13  12    13   14    15    16   17  16    17   18    19    20   21     20    21   22    23    24   25     24    25   26    27    28   29     28    29   30    31    32  1\".split()]\n",
      "    print(\"\\nE is\\n\",E_bit)\n",
      "    len(E_bit)\n",
      "    \n",
      "    temp=[]\n",
      "    for i in range(len(E_bit)):\n",
      "        temp.append(R[E_bit[i]-1])\n",
      "    print temp\n",
      "\n",
      "    len(temp)\n",
      "    \n",
      "    abc=xOr(K,temp)\n",
      "    print abc\n",
      "    bc=[abc[i:i + 6] for i in range(0, len(abc), 6)]\n",
      "    print bc\n",
      "    \n",
      "    SS=[S1,S2,S3,S4,S5,S6,S7,S8]\n",
      "    SSS=[]\n",
      "    for i in range(8):\n",
      "        SSS+=S_B(bc[i],SS[i])\n",
      "    f_R_K=[]\n",
      "    for i in range(len(P)):\n",
      "        f_R_K.append(SSS[P[i]-1])\n",
      "        \n",
      "    return f_R_K\n",
      "xy=[0,0,0,1,1,0,1,1,0,0,0,0,0,0,1,0,1,1,1,0,1,1,1,1,1,1,1,1,1,1,0,0,0,1,1,1,0,0,0,0,0,1,1,1,0,0,1,0]\n",
      "rs=[1,1,1,1,0,0,0,0,1,0,1,0,1,0,1,0,1,1,1,1,0,0,0,0,1,0,1,0,1,0,1,0]\n",
      "print f_function(rs,xy)\n",
      "    \n",
      "    "
     ],
     "language": "python",
     "metadata": {},
     "outputs": [
      {
       "output_type": "stream",
       "stream": "stdout",
       "text": [
        "\n",
        "P is\n",
        "[16, 7, 20, 21, 29, 12, 28, 17, 1, 15, 23, 26, 5, 18, 31, 10, 2, 8, 24, 14, 32, 27, 3, 9, 19, 13, 30, 6, 22, 11, 4, 25] 32\n",
        "('\\nE is\\n', [32, 1, 2, 3, 4, 5, 4, 5, 6, 7, 8, 9, 8, 9, 10, 11, 12, 13, 12, 13, 14, 15, 16, 17, 16, 17, 18, 19, 20, 21, 20, 21, 22, 23, 24, 25, 24, 25, 26, 27, 28, 29, 28, 29, 30, 31, 32, 1])\n",
        "[0, 1, 1, 1, 1, 0, 1, 0, 0, 0, 0, 1, 0, 1, 0, 1, 0, 1, 0, 1, 0, 1, 0, 1, 0, 1, 1, 1, 1, 0, 1, 0, 0, 0, 0, 1, 0, 1, 0, 1, 0, 1, 0, 1, 0, 1, 0, 1]\n",
        "[0, 1, 1, 0, 0, 0, 0, 1, 0, 0, 0, 1, 0, 1, 1, 1, 1, 0, 1, 1, 1, 0, 1, 0, 1, 0, 0, 0, 0, 1, 1, 0, 0, 1, 1, 0, 0, 1, 0, 1, 0, 0, 1, 0, 0, 1, 1, 1]\n",
        "[[0, 1, 1, 0, 0, 0], [0, 1, 0, 0, 0, 1], [0, 1, 1, 1, 1, 0], [1, 1, 1, 0, 1, 0], [1, 0, 0, 0, 0, 1], [1, 0, 0, 1, 1, 0], [0, 1, 0, 1, 0, 0], [1, 0, 0, 1, 1, 1]]\n",
        "[0, 0, 1, 0, 0, 0, 1, 1, 0, 1, 0, 0, 1, 0, 1, 0, 1, 0, 1, 0, 1, 0, 0, 1, 1, 0, 1, 1, 1, 0, 1, 1]\n"
       ]
      }
     ],
     "prompt_number": 318
    },
    {
     "cell_type": "markdown",
     "metadata": {},
     "source": [
      "<h1>Generating Cipher Text</h1>\n",
      "$L_n=R_{n-1}$\n",
      "\n",
      "$R_n=L_{n-1} + f(R_{n-1},K_{n})$\n",
      "\n",
      "\"+\" denotes XOR operation\n"
     ]
    },
    {
     "cell_type": "code",
     "collapsed": false,
     "input": [
      "RR_arr=[]\n",
      "LL_arr=[]\n",
      "LL_arr.append(L0)\n",
      "RR_arr.append(R0)\n",
      "def final_computing():\n",
      "    for i in range(1,17):\n",
      "        LL_arr.append(RR_arr[i-1])\n",
      "        RR_arr.append(xOr(LL_arr[i-1],f_function(RR_arr[i-1],Kn[i-1])))\n",
      "final_computing()"
     ],
     "language": "python",
     "metadata": {},
     "outputs": [
      {
       "output_type": "stream",
       "stream": "stdout",
       "text": [
        "\n",
        "P is\n",
        "[16, 7, 20, 21, 29, 12, 28, 17, 1, 15, 23, 26, 5, 18, 31, 10, 2, 8, 24, 14, 32, 27, 3, 9, 19, 13, 30, 6, 22, 11, 4, 25] 32\n",
        "('\\nE is\\n', [32, 1, 2, 3, 4, 5, 4, 5, 6, 7, 8, 9, 8, 9, 10, 11, 12, 13, 12, 13, 14, 15, 16, 17, 16, 17, 18, 19, 20, 21, 20, 21, 22, 23, 24, 25, 24, 25, 26, 27, 28, 29, 28, 29, 30, 31, 32, 1])\n",
        "[0, 1, 1, 1, 1, 0, 1, 0, 0, 0, 0, 1, 0, 1, 0, 1, 0, 1, 0, 1, 0, 1, 0, 1, 0, 1, 1, 1, 1, 0, 1, 0, 0, 0, 0, 1, 0, 1, 0, 1, 0, 1, 0, 1, 0, 1, 0, 1]\n",
        "[0, 1, 1, 0, 0, 0, 0, 1, 0, 0, 0, 1, 0, 1, 1, 1, 1, 0, 1, 1, 1, 0, 1, 0, 1, 0, 0, 0, 0, 1, 1, 0, 0, 1, 1, 0, 0, 1, 0, 1, 0, 0, 1, 0, 0, 1, 1, 1]\n",
        "[[0, 1, 1, 0, 0, 0], [0, 1, 0, 0, 0, 1], [0, 1, 1, 1, 1, 0], [1, 1, 1, 0, 1, 0], [1, 0, 0, 0, 0, 1], [1, 0, 0, 1, 1, 0], [0, 1, 0, 1, 0, 0], [1, 0, 0, 1, 1, 1]]\n",
        "\n",
        "P is\n",
        "[16, 7, 20, 21, 29, 12, 28, 17, 1, 15, 23, 26, 5, 18, 31, 10, 2, 8, 24, 14, 32, 27, 3, 9, 19, 13, 30, 6, 22, 11, 4, 25] 32\n",
        "('\\nE is\\n', [32, 1, 2, 3, 4, 5, 4, 5, 6, 7, 8, 9, 8, 9, 10, 11, 12, 13, 12, 13, 14, 15, 16, 17, 16, 17, 18, 19, 20, 21, 20, 21, 22, 23, 24, 25, 24, 25, 26, 27, 28, 29, 28, 29, 30, 31, 32, 1])\n",
        "[0, 1, 1, 1, 0, 1, 0, 1, 1, 1, 1, 0, 1, 0, 1, 0, 0, 1, 0, 1, 0, 1, 0, 0, 0, 0, 1, 1, 0, 0, 0, 0, 1, 0, 1, 0, 1, 0, 1, 0, 0, 0, 0, 0, 1, 0, 0, 1]\n",
        "[0, 0, 0, 0, 1, 1, 0, 0, 0, 1, 0, 0, 0, 1, 0, 0, 1, 0, 0, 0, 1, 1, 0, 1, 1, 1, 1, 0, 1, 0, 1, 1, 0, 1, 1, 0, 0, 0, 1, 1, 1, 1, 1, 0, 1, 1, 0, 0]\n",
        "[[0, 0, 0, 0, 1, 1], [0, 0, 0, 1, 0, 0], [0, 1, 0, 0, 1, 0], [0, 0, 1, 1, 0, 1], [1, 1, 1, 0, 1, 0], [1, 1, 0, 1, 1, 0], [0, 0, 1, 1, 1, 1], [1, 0, 1, 1, 0, 0]]\n",
        "\n",
        "P is\n",
        "[16, 7, 20, 21, 29, 12, 28, 17, 1, 15, 23, 26, 5, 18, 31, 10, 2, 8, 24, 14, 32, 27, 3, 9, 19, 13, 30, 6, 22, 11, 4, 25] 32\n",
        "('\\nE is\\n', [32, 1, 2, 3, 4, 5, 4, 5, 6, 7, 8, 9, 8, 9, 10, 11, 12, 13, 12, 13, 14, 15, 16, 17, 16, 17, 18, 19, 20, 21, 20, 21, 22, 23, 24, 25, 24, 25, 26, 27, 28, 29, 28, 29, 30, 31, 32, 1])\n",
        "[1, 1, 1, 0, 0, 1, 0, 1, 1, 0, 0, 0, 0, 0, 0, 0, 0, 0, 0, 0, 0, 0, 1, 0, 1, 0, 1, 1, 1, 0, 1, 0, 1, 1, 1, 0, 1, 0, 0, 0, 0, 1, 0, 1, 0, 0, 1, 1]\n",
        "[1, 0, 1, 1, 0, 0, 0, 0, 0, 1, 1, 1, 1, 1, 0, 0, 1, 0, 0, 0, 1, 0, 0, 0, 1, 1, 1, 1, 1, 0, 0, 0, 0, 0, 1, 0, 0, 1, 1, 1, 1, 1, 0, 0, 1, 0, 1, 0]\n",
        "[[1, 0, 1, 1, 0, 0], [0, 0, 0, 1, 1, 1], [1, 1, 0, 0, 1, 0], [0, 0, 1, 0, 0, 0], [1, 1, 1, 1, 1, 0], [0, 0, 0, 0, 1, 0], [0, 1, 1, 1, 1, 1], [0, 0, 1, 0, 1, 0]]\n",
        "\n",
        "P is\n",
        "[16, 7, 20, 21, 29, 12, 28, 17, 1, 15, 23, 26, 5, 18, 31, 10, 2, 8, 24, 14, 32, 27, 3, 9, 19, 13, 30, 6, 22, 11, 4, 25] 32\n",
        "('\\nE is\\n', [32, 1, 2, 3, 4, 5, 4, 5, 6, 7, 8, 9, 8, 9, 10, 11, 12, 13, 12, 13, 14, 15, 16, 17, 16, 17, 18, 19, 20, 21, 20, 21, 22, 23, 24, 25, 24, 25, 26, 27, 28, 29, 28, 29, 30, 31, 32, 1])\n",
        "[0, 1, 0, 1, 0, 0, 0, 0, 0, 1, 0, 0, 0, 0, 1, 0, 1, 1, 1, 1, 1, 0, 0, 0, 0, 0, 0, 0, 0, 1, 0, 1, 0, 1, 1, 1, 1, 1, 1, 1, 1, 0, 1, 0, 1, 0, 0, 1]\n",
        "[0, 0, 1, 0, 0, 0, 1, 0, 1, 1, 1, 0, 1, 1, 1, 1, 0, 0, 1, 0, 1, 1, 1, 0, 1, 1, 0, 1, 1, 1, 1, 0, 0, 1, 0, 0, 1, 0, 1, 0, 1, 0, 1, 1, 0, 1, 0, 0]\n",
        "[[0, 0, 1, 0, 0, 0], [1, 0, 1, 1, 1, 0], [1, 1, 1, 1, 0, 0], [1, 0, 1, 1, 1, 0], [1, 1, 0, 1, 1, 1], [1, 0, 0, 1, 0, 0], [1, 0, 1, 0, 1, 0], [1, 1, 0, 1, 0, 0]]\n",
        "\n",
        "P is\n",
        "[16, 7, 20, 21, 29, 12, 28, 17, 1, 15, 23, 26, 5, 18, 31, 10, 2, 8, 24, 14, 32, 27, 3, 9, 19, 13, 30, 6, 22, 11, 4, 25] 32\n",
        "('\\nE is\\n', [32, 1, 2, 3, 4, 5, 4, 5, 6, 7, 8, 9, 8, 9, 10, 11, 12, 13, 12, 13, 14, 15, 16, 17, 16, 17, 18, 19, 20, 21, 20, 21, 22, 23, 24, 25, 24, 25, 26, 27, 28, 29, 28, 29, 30, 31, 32, 1])\n",
        "[1, 0, 1, 1, 1, 0, 1, 0, 1, 1, 1, 0, 1, 0, 0, 1, 0, 0, 0, 0, 0, 1, 0, 0, 0, 0, 0, 0, 0, 0, 0, 0, 0, 0, 0, 0, 0, 0, 1, 0, 0, 0, 0, 0, 1, 0, 1, 0]\n",
        "[1, 1, 0, 0, 0, 1, 1, 0, 0, 0, 0, 0, 0, 1, 0, 1, 0, 0, 0, 0, 0, 0, 1, 1, 1, 1, 1, 0, 1, 0, 1, 1, 0, 1, 0, 1, 0, 0, 0, 1, 1, 0, 1, 0, 0, 0, 1, 0]\n",
        "[[1, 1, 0, 0, 0, 1], [1, 0, 0, 0, 0, 0], [0, 1, 0, 1, 0, 0], [0, 0, 0, 0, 1, 1], [1, 1, 1, 0, 1, 0], [1, 1, 0, 1, 0, 1], [0, 0, 0, 1, 1, 0], [1, 0, 0, 0, 1, 0]]\n",
        "\n",
        "P is\n",
        "[16, 7, 20, 21, 29, 12, 28, 17, 1, 15, 23, 26, 5, 18, 31, 10, 2, 8, 24, 14, 32, 27, 3, 9, 19, 13, 30, 6, 22, 11, 4, 25] 32\n",
        "('\\nE is\\n', [32, 1, 2, 3, 4, 5, 4, 5, 6, 7, 8, 9, 8, 9, 10, 11, 12, 13, 12, 13, 14, 15, 16, 17, 16, 17, 18, 19, 20, 21, 20, 21, 22, 23, 24, 25, 24, 25, 26, 27, 28, 29, 28, 29, 30, 31, 32, 1])\n",
        "[1, 1, 0, 0, 0, 1, 0, 1, 0, 1, 0, 0, 0, 0, 1, 0, 0, 1, 0, 1, 1, 1, 1, 1, 1, 1, 0, 1, 0, 0, 0, 0, 1, 1, 0, 0, 0, 0, 0, 1, 1, 0, 1, 0, 1, 1, 1, 1]\n",
        "[1, 0, 1, 0, 0, 1, 1, 0, 1, 1, 1, 0, 0, 1, 1, 1, 0, 1, 1, 0, 0, 0, 0, 1, 1, 0, 0, 0, 0, 0, 0, 0, 1, 0, 1, 1, 1, 0, 1, 0, 1, 0, 0, 0, 0, 0, 0, 0]\n",
        "[[1, 0, 1, 0, 0, 1], [1, 0, 1, 1, 1, 0], [0, 1, 1, 1, 0, 1], [1, 0, 0, 0, 0, 1], [1, 0, 0, 0, 0, 0], [0, 0, 1, 0, 1, 1], [1, 0, 1, 0, 1, 0], [0, 0, 0, 0, 0, 0]]\n",
        "\n",
        "P is\n",
        "[16, 7, 20, 21, 29, 12, 28, 17, 1, 15, 23, 26, 5, 18, 31, 10, 2, 8, 24, 14, 32, 27, 3, 9, 19, 13, 30, 6, 22, 11, 4, 25] 32\n",
        "('\\nE is\\n', [32, 1, 2, 3, 4, 5, 4, 5, 6, 7, 8, 9, 8, 9, 10, 11, 12, 13, 12, 13, 14, 15, 16, 17, 16, 17, 18, 19, 20, 21, 20, 21, 22, 23, 24, 25, 24, 25, 26, 27, 28, 29, 28, 29, 30, 31, 32, 1])\n",
        "[1, 1, 1, 1, 0, 1, 0, 1, 0, 0, 1, 0, 1, 0, 1, 1, 0, 0, 0, 0, 1, 1, 1, 1, 1, 1, 1, 0, 0, 1, 0, 1, 1, 0, 1, 0, 1, 0, 1, 1, 0, 1, 0, 1, 0, 0, 1, 1]\n",
        "[0, 0, 0, 1, 1, 0, 0, 1, 1, 0, 1, 0, 1, 1, 1, 1, 1, 0, 1, 1, 1, 0, 0, 0, 0, 0, 0, 1, 0, 0, 1, 1, 1, 0, 1, 1, 0, 0, 1, 1, 1, 1, 1, 0, 1, 1, 1, 1]\n",
        "[[0, 0, 0, 1, 1, 0], [0, 1, 1, 0, 1, 0], [1, 1, 1, 1, 1, 0], [1, 1, 1, 0, 0, 0], [0, 0, 0, 1, 0, 0], [1, 1, 1, 0, 1, 1], [0, 0, 1, 1, 1, 1], [1, 0, 1, 1, 1, 1]]\n",
        "\n",
        "P is\n",
        "[16, 7, 20, 21, 29, 12, 28, 17, 1, 15, 23, 26, 5, 18, 31, 10, 2, 8, 24, 14, 32, 27, 3, 9, 19, 13, 30, 6, 22, 11, 4, 25] 32\n",
        "('\\nE is\\n', [32, 1, 2, 3, 4, 5, 4, 5, 6, 7, 8, 9, 8, 9, 10, 11, 12, 13, 12, 13, 14, 15, 16, 17, 16, 17, 18, 19, 20, 21, 20, 21, 22, 23, 24, 25, 24, 25, 26, 27, 28, 29, 28, 29, 30, 31, 32, 1])\n",
        "[0, 0, 0, 0, 0, 0, 0, 0, 1, 1, 0, 0, 0, 0, 1, 0, 0, 1, 0, 1, 0, 1, 0, 1, 0, 1, 0, 1, 1, 1, 1, 1, 0, 1, 0, 0, 0, 0, 0, 0, 1, 0, 1, 0, 0, 0, 0, 0]\n",
        "[1, 1, 1, 1, 0, 1, 1, 1, 0, 1, 0, 0, 1, 0, 0, 0, 0, 1, 1, 0, 1, 1, 1, 1, 1, 0, 0, 1, 1, 1, 1, 0, 0, 1, 1, 1, 1, 0, 1, 1, 0, 1, 0, 1, 1, 0, 1, 1]\n",
        "[[1, 1, 1, 1, 0, 1], [1, 1, 0, 1, 0, 0], [1, 0, 0, 0, 0, 1], [1, 0, 1, 1, 1, 1], [1, 0, 0, 1, 1, 1], [1, 0, 0, 1, 1, 1], [1, 0, 1, 1, 0, 1], [0, 1, 1, 0, 1, 1]]\n",
        "\n",
        "P is\n",
        "[16, 7, 20, 21, 29, 12, 28, 17, 1, 15, 23, 26, 5, 18, 31, 10, 2, 8, 24, 14, 32, 27, 3, 9, 19, 13, 30, 6, 22, 11, 4, 25] 32\n",
        "('\\nE is\\n', [32, 1, 2, 3, 4, 5, 4, 5, 6, 7, 8, 9, 8, 9, 10, 11, 12, 13, 12, 13, 14, 15, 16, 17, 16, 17, 18, 19, 20, 21, 20, 21, 22, 23, 24, 25, 24, 25, 26, 27, 28, 29, 28, 29, 30, 31, 32, 1])\n",
        "[0, 1, 1, 0, 1, 0, 1, 0, 1, 0, 1, 0, 1, 0, 1, 1, 0, 1, 0, 1, 0, 0, 1, 0, 1, 0, 1, 0, 0, 1, 0, 1, 0, 1, 1, 1, 1, 1, 0, 0, 1, 0, 1, 0, 0, 0, 0, 1]\n",
        "[1, 0, 0, 0, 1, 0, 1, 0, 0, 1, 1, 1, 0, 0, 0, 0, 1, 0, 1, 1, 1, 0, 0, 1, 0, 1, 0, 0, 1, 0, 0, 0, 1, 0, 0, 1, 1, 0, 1, 1, 0, 0, 1, 0, 0, 0, 0, 0]\n",
        "[[1, 0, 0, 0, 1, 0], [1, 0, 0, 1, 1, 1], [0, 0, 0, 0, 1, 0], [1, 1, 1, 0, 0, 1], [0, 1, 0, 0, 1, 0], [0, 0, 1, 0, 0, 1], [1, 0, 1, 1, 0, 0], [1, 0, 0, 0, 0, 0]]\n",
        "\n",
        "P is\n",
        "[16, 7, 20, 21, 29, 12, 28, 17, 1, 15, 23, 26, 5, 18, 31, 10, 2, 8, 24, 14, 32, 27, 3, 9, 19, 13, 30, 6, 22, 11, 4, 25] 32\n",
        "('\\nE is\\n', [32, 1, 2, 3, 4, 5, 4, 5, 6, 7, 8, 9, 8, 9, 10, 11, 12, 13, 12, 13, 14, 15, 16, 17, 16, 17, 18, 19, 20, 21, 20, 21, 22, 23, 24, 25, 24, 25, 26, 27, 28, 29, 28, 29, 30, 31, 32, 1])\n",
        "[0, 0, 0, 1, 0, 0, 0, 0, 1, 0, 0, 0, 0, 0, 1, 1, 1, 1, 1, 1, 1, 0, 0, 1, 0, 1, 1, 0, 0, 0, 0, 0, 1, 1, 0, 0, 0, 0, 1, 1, 1, 1, 1, 1, 0, 1, 0, 0]\n",
        "[1, 0, 1, 0, 0, 0, 0, 1, 0, 1, 1, 1, 0, 0, 0, 0, 1, 0, 1, 1, 1, 1, 1, 0, 1, 1, 0, 1, 1, 0, 1, 0, 1, 0, 0, 0, 0, 1, 0, 1, 1, 0, 1, 1, 1, 0, 1, 1]\n",
        "[[1, 0, 1, 0, 0, 0], [0, 1, 0, 1, 1, 1], [0, 0, 0, 0, 1, 0], [1, 1, 1, 1, 1, 0], [1, 1, 0, 1, 1, 0], [1, 0, 1, 0, 0, 0], [0, 1, 0, 1, 1, 0], [1, 1, 1, 0, 1, 1]]\n",
        "\n",
        "P is\n",
        "[16, 7, 20, 21, 29, 12, 28, 17, 1, 15, 23, 26, 5, 18, 31, 10, 2, 8, 24, 14, 32, 27, 3, 9, 19, 13, 30, 6, 22, 11, 4, 25] 32\n",
        "('\\nE is\\n', [32, 1, 2, 3, 4, 5, 4, 5, 6, 7, 8, 9, 8, 9, 10, 11, 12, 13, 12, 13, 14, 15, 16, 17, 16, 17, 18, 19, 20, 21, 20, 21, 22, 23, 24, 25, 24, 25, 26, 27, 28, 29, 28, 29, 30, 31, 32, 1])\n",
        "[0, 1, 0, 1, 1, 0, 1, 0, 1, 1, 1, 1, 1, 1, 1, 0, 1, 0, 1, 0, 1, 0, 1, 1, 1, 1, 1, 0, 1, 0, 1, 0, 1, 1, 1, 1, 1, 1, 0, 1, 1, 0, 1, 0, 0, 1, 0, 1]\n",
        "[0, 1, 1, 1, 1, 0, 1, 1, 1, 0, 1, 0, 0, 0, 0, 1, 0, 1, 1, 1, 1, 0, 0, 0, 0, 0, 1, 1, 0, 1, 0, 0, 0, 0, 1, 0, 1, 1, 1, 0, 0, 0, 1, 0, 0, 0, 1, 1]\n",
        "[[0, 1, 1, 1, 1, 0], [1, 1, 1, 0, 1, 0], [0, 0, 0, 1, 0, 1], [1, 1, 1, 0, 0, 0], [0, 0, 1, 1, 0, 1], [0, 0, 0, 0, 1, 0], [1, 1, 1, 0, 0, 0], [1, 0, 0, 0, 1, 1]]\n",
        "\n",
        "P is\n",
        "[16, 7, 20, 21, 29, 12, 28, 17, 1, 15, 23, 26, 5, 18, 31, 10, 2, 8, 24, 14, 32, 27, 3, 9, 19, 13, 30, 6, 22, 11, 4, 25] 32\n",
        "('\\nE is\\n', [32, 1, 2, 3, 4, 5, 4, 5, 6, 7, 8, 9, 8, 9, 10, 11, 12, 13, 12, 13, 14, 15, 16, 17, 16, 17, 18, 19, 20, 21, 20, 21, 22, 23, 24, 25, 24, 25, 26, 27, 28, 29, 28, 29, 30, 31, 32, 1])\n",
        "[0, 1, 1, 0, 0, 0, 0, 0, 1, 0, 1, 0, 1, 0, 1, 1, 1, 1, 1, 1, 0, 0, 0, 0, 0, 0, 0, 1, 1, 1, 1, 1, 1, 0, 0, 0, 0, 0, 1, 1, 1, 1, 1, 1, 0, 0, 0, 1]\n",
        "[0, 0, 0, 1, 0, 1, 0, 1, 1, 1, 0, 1, 1, 0, 1, 0, 0, 0, 0, 0, 0, 1, 0, 1, 1, 0, 0, 0, 1, 0, 1, 1, 1, 1, 1, 0, 0, 1, 0, 0, 0, 0, 0, 1, 1, 0, 0, 0]\n",
        "[[0, 0, 0, 1, 0, 1], [0, 1, 1, 1, 0, 1], [1, 0, 1, 0, 0, 0], [0, 0, 0, 1, 0, 1], [1, 0, 0, 0, 1, 0], [1, 1, 1, 1, 1, 0], [0, 1, 0, 0, 0, 0], [0, 1, 1, 0, 0, 0]]\n",
        "\n",
        "P is\n",
        "[16, 7, 20, 21, 29, 12, 28, 17, 1, 15, 23, 26, 5, 18, 31, 10, 2, 8, 24, 14, 32, 27, 3, 9, 19, 13, 30, 6, 22, 11, 4, 25] 32\n",
        "('\\nE is\\n', [32, 1, 2, 3, 4, 5, 4, 5, 6, 7, 8, 9, 8, 9, 10, 11, 12, 13, 12, 13, 14, 15, 16, 17, 16, 17, 18, 19, 20, 21, 20, 21, 22, 23, 24, 25, 24, 25, 26, 27, 28, 29, 28, 29, 30, 31, 32, 1])\n",
        "[0, 0, 1, 1, 1, 0, 1, 0, 1, 0, 1, 1, 1, 1, 0, 1, 1, 1, 1, 1, 1, 0, 1, 0, 1, 0, 0, 0, 1, 1, 1, 1, 0, 0, 0, 0, 0, 0, 1, 0, 1, 1, 1, 1, 0, 0, 0, 0]\n",
        "[1, 0, 1, 0, 1, 1, 0, 1, 0, 1, 1, 1, 1, 0, 0, 0, 0, 0, 1, 0, 1, 0, 1, 1, 0, 1, 1, 1, 0, 1, 0, 1, 1, 0, 1, 1, 1, 0, 0, 0, 1, 0, 1, 1, 0, 0, 0, 1]\n",
        "[[1, 0, 1, 0, 1, 1], [0, 1, 0, 1, 1, 1], [1, 0, 0, 0, 0, 0], [1, 0, 1, 0, 1, 1], [0, 1, 1, 1, 0, 1], [0, 1, 1, 0, 1, 1], [1, 0, 0, 0, 1, 0], [1, 1, 0, 0, 0, 1]]\n",
        "\n",
        "P is\n",
        "[16, 7, 20, 21, 29, 12, 28, 17, 1, 15, 23, 26, 5, 18, 31, 10, 2, 8, 24, 14, 32, 27, 3, 9, 19, 13, 30, 6, 22, 11, 4, 25] 32\n",
        "('\\nE is\\n', [32, 1, 2, 3, 4, 5, 4, 5, 6, 7, 8, 9, 8, 9, 10, 11, 12, 13, 12, 13, 14, 15, 16, 17, 16, 17, 18, 19, 20, 21, 20, 21, 22, 23, 24, 25, 24, 25, 26, 27, 28, 29, 28, 29, 30, 31, 32, 1])\n",
        "[0, 0, 0, 0, 1, 1, 1, 1, 0, 0, 0, 1, 0, 1, 1, 0, 0, 0, 0, 0, 0, 1, 1, 0, 1, 0, 0, 0, 1, 0, 1, 0, 1, 0, 1, 0, 1, 0, 1, 0, 1, 1, 1, 1, 0, 1, 0, 0]\n",
        "[0, 1, 0, 1, 0, 0, 0, 0, 0, 1, 0, 1, 0, 1, 0, 1, 1, 0, 1, 1, 0, 0, 0, 1, 0, 1, 1, 1, 1, 0, 0, 0, 0, 1, 0, 0, 1, 1, 0, 1, 1, 1, 0, 0, 1, 1, 1, 0]\n",
        "[[0, 1, 0, 1, 0, 0], [0, 0, 0, 1, 0, 1], [0, 1, 0, 1, 1, 0], [1, 1, 0, 0, 0, 1], [0, 1, 1, 1, 1, 0], [0, 0, 0, 1, 0, 0], [1, 1, 0, 1, 1, 1], [0, 0, 1, 1, 1, 0]]\n",
        "\n",
        "P is\n",
        "[16, 7, 20, 21, 29, 12, 28, 17, 1, 15, 23, 26, 5, 18, 31, 10, 2, 8, 24, 14, 32, 27, 3, 9, 19, 13, 30, 6, 22, 11, 4, 25] 32\n",
        "('\\nE is\\n', [32, 1, 2, 3, 4, 5, 4, 5, 6, 7, 8, 9, 8, 9, 10, 11, 12, 13, 12, 13, 14, 15, 16, 17, 16, 17, 18, 19, 20, 21, 20, 21, 22, 23, 24, 25, 24, 25, 26, 27, 28, 29, 28, 29, 30, 31, 32, 1])\n",
        "[1, 1, 1, 0, 0, 0, 0, 0, 0, 1, 0, 1, 0, 1, 0, 0, 0, 1, 0, 1, 1, 0, 0, 1, 0, 1, 0, 0, 1, 0, 1, 0, 1, 1, 0, 0, 0, 0, 0, 0, 0, 1, 0, 1, 1, 0, 1, 1]\n",
        "[0, 1, 0, 1, 1, 1, 1, 1, 1, 1, 0, 0, 0, 1, 0, 1, 1, 1, 0, 1, 0, 1, 0, 0, 0, 1, 1, 1, 0, 1, 1, 1, 1, 1, 1, 1, 1, 1, 1, 1, 0, 1, 0, 1, 0, 0, 0, 1]\n",
        "[[0, 1, 0, 1, 1, 1], [1, 1, 1, 1, 0, 0], [0, 1, 0, 1, 1, 1], [0, 1, 0, 1, 0, 0], [0, 1, 1, 1, 0, 1], [1, 1, 1, 1, 1, 1], [1, 1, 1, 1, 0, 1], [0, 1, 0, 0, 0, 1]]\n",
        "\n",
        "P is\n",
        "[16, 7, 20, 21, 29, 12, 28, 17, 1, 15, 23, 26, 5, 18, 31, 10, 2, 8, 24, 14, 32, 27, 3, 9, 19, 13, 30, 6, 22, 11, 4, 25] 32\n",
        "('\\nE is\\n', [32, 1, 2, 3, 4, 5, 4, 5, 6, 7, 8, 9, 8, 9, 10, 11, 12, 13, 12, 13, 14, 15, 16, 17, 16, 17, 18, 19, 20, 21, 20, 21, 22, 23, 24, 25, 24, 25, 26, 27, 28, 29, 28, 29, 30, 31, 32, 1])\n",
        "[0, 0, 1, 0, 0, 0, 0, 0, 0, 1, 1, 0, 1, 0, 1, 0, 0, 0, 0, 0, 0, 1, 0, 0, 0, 0, 0, 1, 1, 0, 1, 0, 0, 1, 0, 0, 0, 0, 0, 1, 1, 0, 1, 0, 1, 0, 0, 0]\n",
        "[1, 1, 1, 0, 1, 0, 1, 1, 0, 1, 0, 1, 0, 1, 1, 1, 1, 0, 0, 0, 1, 1, 1, 1, 0, 0, 0, 1, 0, 1, 0, 0, 0, 1, 0, 1, 0, 1, 1, 0, 0, 1, 0, 1, 1, 1, 0, 1]\n",
        "[[1, 1, 1, 0, 1, 0], [1, 1, 0, 1, 0, 1], [0, 1, 1, 1, 1, 0], [0, 0, 1, 1, 1, 1], [0, 0, 0, 1, 0, 1], [0, 0, 0, 1, 0, 1], [0, 1, 1, 0, 0, 1], [0, 1, 1, 1, 0, 1]]\n"
       ]
      }
     ],
     "prompt_number": 319
    },
    {
     "cell_type": "code",
     "collapsed": false,
     "input": [],
     "language": "python",
     "metadata": {},
     "outputs": [],
     "prompt_number": 319
    },
    {
     "cell_type": "code",
     "collapsed": false,
     "input": [
      "len(Kn)"
     ],
     "language": "python",
     "metadata": {},
     "outputs": [
      {
       "metadata": {},
       "output_type": "pyout",
       "prompt_number": 320,
       "text": [
        "16"
       ]
      }
     ],
     "prompt_number": 320
    },
    {
     "cell_type": "heading",
     "level": 2,
     "metadata": {},
     "source": [
      "Computing $R_{16}L_{16}$ and apply a final permutation $IP^{-1}$"
     ]
    },
    {
     "cell_type": "code",
     "collapsed": false,
     "input": [
      "print \"\\nL16 is\",LL_arr[16]\n",
      "print \"|nR16 is\",RR_arr[16]\n"
     ],
     "language": "python",
     "metadata": {},
     "outputs": [
      {
       "output_type": "stream",
       "stream": "stdout",
       "text": [
        "\n",
        "L16 is [0, 1, 0, 0, 0, 0, 1, 1, 0, 1, 0, 0, 0, 0, 1, 0, 0, 0, 1, 1, 0, 0, 1, 0, 0, 0, 1, 1, 0, 1, 0, 0]\n",
        "|nR16 is [0, 0, 0, 0, 1, 0, 1, 0, 0, 1, 0, 0, 1, 1, 0, 0, 1, 1, 0, 1, 1, 0, 0, 1, 1, 0, 0, 1, 0, 1, 0, 1]\n"
       ]
      }
     ],
     "prompt_number": 321
    },
    {
     "cell_type": "code",
     "collapsed": false,
     "input": [
      "R16L16=RR_arr[16]+LL_arr[16]\n",
      "\n",
      "print R16L16,\"\\n\",len(R16L16)"
     ],
     "language": "python",
     "metadata": {},
     "outputs": [
      {
       "output_type": "stream",
       "stream": "stdout",
       "text": [
        "[0, 0, 0, 0, 1, 0, 1, 0, 0, 1, 0, 0, 1, 1, 0, 0, 1, 1, 0, 1, 1, 0, 0, 1, 1, 0, 0, 1, 0, 1, 0, 1, 0, 1, 0, 0, 0, 0, 1, 1, 0, 1, 0, 0, 0, 0, 1, 0, 0, 0, 1, 1, 0, 0, 1, 0, 0, 0, 1, 1, 0, 1, 0, 0] \n",
        "64\n"
       ]
      }
     ],
     "prompt_number": 322
    },
    {
     "cell_type": "code",
     "collapsed": false,
     "input": [
      "#print \"IP_1 is\",IP_1,len(IP_1)\n",
      "\n",
      "IP_AAA=[int(x) for x in \" 40     8   48    16    56   24    64   32  39     7   47    15    55   23    63   31       38     6   46    14    54   22    62   30  37     5   45    13    53   21    61   29    36     4   44    12    52   20    60   28    35     3   43    11    51   19    59   27   34     2   42    10    50   18    58   26    33     1   41     9    49   17    57   25\".split()]"
     ],
     "language": "python",
     "metadata": {},
     "outputs": [],
     "prompt_number": 323
    },
    {
     "cell_type": "code",
     "collapsed": false,
     "input": [
      "print len(IP_AAA)"
     ],
     "language": "python",
     "metadata": {},
     "outputs": [
      {
       "output_type": "stream",
       "stream": "stdout",
       "text": [
        "64\n"
       ]
      }
     ],
     "prompt_number": 324
    },
    {
     "cell_type": "code",
     "collapsed": false,
     "input": [
      "IP_aa=[]\n",
      "for i in range(len(IP_AAA)):\n",
      "    IP_aa.append(R16L16[IP_AAA[i]-1])\n",
      "print IP_aa"
     ],
     "language": "python",
     "metadata": {},
     "outputs": [
      {
       "output_type": "stream",
       "stream": "stdout",
       "text": [
        "[1, 0, 0, 0, 0, 1, 0, 1, 1, 1, 1, 0, 1, 0, 0, 0, 0, 0, 0, 1, 0, 0, 1, 1, 0, 1, 0, 1, 0, 1, 0, 0, 0, 0, 0, 0, 1, 1, 1, 1, 0, 0, 0, 0, 1, 0, 1, 0, 1, 0, 1, 1, 0, 1, 0, 0, 0, 0, 0, 0, 0, 1, 0, 1]\n"
       ]
      }
     ],
     "prompt_number": 325
    },
    {
     "cell_type": "code",
     "collapsed": false,
     "input": [
      "for i in range(len(IP_aa)):\n",
      "    IP_aa[i]=str(IP_aa[i])"
     ],
     "language": "python",
     "metadata": {},
     "outputs": [],
     "prompt_number": 326
    },
    {
     "cell_type": "code",
     "collapsed": false,
     "input": [
      "bin_to_hex={\n",
      "'0000':0,\n",
      "'0001':1,\n",
      "'0010':2,\n",
      "'0011':3,\n",
      "'0100':4,\n",
      "'0101':5,\n",
      "'0110':6,\n",
      "'0111':7,\n",
      "'1000':8,\n",
      "'1001':9,\n",
      "'1010':'A',\n",
      "'1011':'B',\n",
      "'1100':'C',\n",
      "'1101':'D',\n",
      "'1110':'E',\n",
      "'1111':'F'\n",
      "}"
     ],
     "language": "python",
     "metadata": {},
     "outputs": [],
     "prompt_number": 327
    },
    {
     "cell_type": "code",
     "collapsed": false,
     "input": [
      "Cipher_Text=[IP_aa[i:i+4] for i in range(0,len(IP_aa),4)]\n",
      "Cipher_Text"
     ],
     "language": "python",
     "metadata": {},
     "outputs": [
      {
       "metadata": {},
       "output_type": "pyout",
       "prompt_number": 328,
       "text": [
        "[['1', '0', '0', '0'],\n",
        " ['0', '1', '0', '1'],\n",
        " ['1', '1', '1', '0'],\n",
        " ['1', '0', '0', '0'],\n",
        " ['0', '0', '0', '1'],\n",
        " ['0', '0', '1', '1'],\n",
        " ['0', '1', '0', '1'],\n",
        " ['0', '1', '0', '0'],\n",
        " ['0', '0', '0', '0'],\n",
        " ['1', '1', '1', '1'],\n",
        " ['0', '0', '0', '0'],\n",
        " ['1', '0', '1', '0'],\n",
        " ['1', '0', '1', '1'],\n",
        " ['0', '1', '0', '0'],\n",
        " ['0', '0', '0', '0'],\n",
        " ['0', '1', '0', '1']]"
       ]
      }
     ],
     "prompt_number": 328
    },
    {
     "cell_type": "code",
     "collapsed": false,
     "input": [
      "#Encrypted Text\n",
      "print \"\\nEncrypted Text is\"\n",
      "for i in range(len(bin_to_hex)):\n",
      "    print bin_to_hex[''.join(Cipher_Text[i])],"
     ],
     "language": "python",
     "metadata": {},
     "outputs": [
      {
       "output_type": "stream",
       "stream": "stdout",
       "text": [
        "\n",
        "Encrypted Text is\n",
        "8 5 E 8 1 3 5 4 0 F 0 A B 4 0 5\n"
       ]
      }
     ],
     "prompt_number": 329
    },
    {
     "cell_type": "code",
     "collapsed": false,
     "input": [
      "x = ['1', 'b', 'c', 'd']\n",
      "print ''.join(x)\n"
     ],
     "language": "python",
     "metadata": {},
     "outputs": [
      {
       "output_type": "stream",
       "stream": "stdout",
       "text": [
        "1bcd\n"
       ]
      }
     ],
     "prompt_number": 330
    },
    {
     "cell_type": "code",
     "collapsed": false,
     "input": [
      "str(1)"
     ],
     "language": "python",
     "metadata": {},
     "outputs": [
      {
       "metadata": {},
       "output_type": "pyout",
       "prompt_number": 331,
       "text": [
        "'1'"
       ]
      }
     ],
     "prompt_number": 331
    },
    {
     "cell_type": "code",
     "collapsed": false,
     "input": [],
     "language": "python",
     "metadata": {},
     "outputs": [],
     "prompt_number": 253
    }
   ],
   "metadata": {}
  }
 ]
}